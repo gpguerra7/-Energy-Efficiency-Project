{
 "cells": [
  {
   "cell_type": "markdown",
   "metadata": {},
   "source": [
    "# Modelling Building Efficiency in NY"
   ]
  },
  {
   "cell_type": "markdown",
   "metadata": {},
   "source": [
    "Data: BlocPower and Public Heating and Cooling data from 103 New York Buildings"
   ]
  },
  {
   "cell_type": "markdown",
   "metadata": {},
   "source": [
    "## 1. Import Python Libraries & Load Data"
   ]
  },
  {
   "cell_type": "code",
   "execution_count": 2,
   "metadata": {
    "collapsed": true
   },
   "outputs": [],
   "source": [
    "import numpy as np\n",
    "import pandas as pd\n",
    "import matplotlib.pyplot as plt\n",
    "%matplotlib inline\n",
    "import seaborn as sns\n",
    "from sklearn import linear_model"
   ]
  },
  {
   "cell_type": "code",
   "execution_count": 3,
   "metadata": {
    "collapsed": true
   },
   "outputs": [],
   "source": [
    "bloc_df = pd.read_csv('BlocPower_T.csv')\n",
    "cdd_hdd_df = pd.read_csv('CDD-HDD-Features.csv')\n",
    "hdd_df = pd.read_csv('HDD-Features.csv')\n",
    "energy_loc_df = pd.read_csv('clusterEnergyLocation.csv')\n",
    "sensor_data_df = pd.read_csv('CombinedSensorData.csv')\n",
    "energy_loc_df = energy_loc_df[['AddressID', 'property_name', 'Address', 'Zipcode', 'Long', 'Lat', 'Annual Energy Bill (USD)']]"
   ]
  },
  {
   "cell_type": "code",
   "execution_count": 4,
   "metadata": {},
   "outputs": [
    {
     "data": {
      "text/html": [
       "<div>\n",
       "<style>\n",
       "    .dataframe thead tr:only-child th {\n",
       "        text-align: right;\n",
       "    }\n",
       "\n",
       "    .dataframe thead th {\n",
       "        text-align: left;\n",
       "    }\n",
       "\n",
       "    .dataframe tbody tr th {\n",
       "        vertical-align: top;\n",
       "    }\n",
       "</style>\n",
       "<table border=\"1\" class=\"dataframe\">\n",
       "  <thead>\n",
       "    <tr style=\"text-align: right;\">\n",
       "      <th></th>\n",
       "      <th>UTSUM_Electricity_Usage</th>\n",
       "      <th>INFO_Year of Construction</th>\n",
       "      <th>INFO_Number of Stories</th>\n",
       "      <th>INFO_Total Square Feet</th>\n",
       "      <th>PLEI_1_Quantity</th>\n",
       "      <th>PLEI_3_Quantity</th>\n",
       "    </tr>\n",
       "  </thead>\n",
       "  <tbody>\n",
       "    <tr>\n",
       "      <th>0</th>\n",
       "      <td>117,870 kWh</td>\n",
       "      <td>1955</td>\n",
       "      <td>4</td>\n",
       "      <td>14,600</td>\n",
       "      <td>1.0</td>\n",
       "      <td>2</td>\n",
       "    </tr>\n",
       "  </tbody>\n",
       "</table>\n",
       "</div>"
      ],
      "text/plain": [
       "  UTSUM_Electricity_Usage INFO_Year of Construction  INFO_Number of Stories  \\\n",
       "0             117,870 kWh                      1955                       4   \n",
       "\n",
       "  INFO_Total Square Feet  PLEI_1_Quantity PLEI_3_Quantity  \n",
       "0                 14,600              1.0               2  "
      ]
     },
     "execution_count": 4,
     "metadata": {},
     "output_type": "execute_result"
    }
   ],
   "source": [
    "#Buidling information provided by BlocPower\n",
    "bloc_df.head(1)"
   ]
  },
  {
   "cell_type": "code",
   "execution_count": 5,
   "metadata": {},
   "outputs": [
    {
     "data": {
      "text/html": [
       "<div>\n",
       "<style>\n",
       "    .dataframe thead tr:only-child th {\n",
       "        text-align: right;\n",
       "    }\n",
       "\n",
       "    .dataframe thead th {\n",
       "        text-align: left;\n",
       "    }\n",
       "\n",
       "    .dataframe tbody tr th {\n",
       "        vertical-align: top;\n",
       "    }\n",
       "</style>\n",
       "<table border=\"1\" class=\"dataframe\">\n",
       "  <thead>\n",
       "    <tr style=\"text-align: right;\">\n",
       "      <th></th>\n",
       "      <th>AddressID</th>\n",
       "      <th>property_name</th>\n",
       "      <th>Address</th>\n",
       "      <th>Zipcode</th>\n",
       "      <th>Long</th>\n",
       "      <th>Lat</th>\n",
       "      <th>Annual Energy Bill (USD)</th>\n",
       "    </tr>\n",
       "  </thead>\n",
       "  <tbody>\n",
       "    <tr>\n",
       "      <th>0</th>\n",
       "      <td>125 East 105th Street10029</td>\n",
       "      <td>ChurchofStCeciliaReport</td>\n",
       "      <td>125 East 105th Street</td>\n",
       "      <td>10029</td>\n",
       "      <td>-73.947326</td>\n",
       "      <td>40.791919</td>\n",
       "      <td>$21,216.60</td>\n",
       "    </tr>\n",
       "  </tbody>\n",
       "</table>\n",
       "</div>"
      ],
      "text/plain": [
       "                    AddressID            property_name                Address  \\\n",
       "0  125 East 105th Street10029  ChurchofStCeciliaReport  125 East 105th Street   \n",
       "\n",
       "   Zipcode       Long        Lat Annual Energy Bill (USD)  \n",
       "0    10029 -73.947326  40.791919              $21,216.60   "
      ]
     },
     "execution_count": 5,
     "metadata": {},
     "output_type": "execute_result"
    }
   ],
   "source": [
    "#Buidling information provided by BlocPower\n",
    "energy_loc_df.head(1)"
   ]
  },
  {
   "cell_type": "code",
   "execution_count": 6,
   "metadata": {},
   "outputs": [
    {
     "data": {
      "text/html": [
       "<div>\n",
       "<style>\n",
       "    .dataframe thead tr:only-child th {\n",
       "        text-align: right;\n",
       "    }\n",
       "\n",
       "    .dataframe thead th {\n",
       "        text-align: left;\n",
       "    }\n",
       "\n",
       "    .dataframe tbody tr th {\n",
       "        vertical-align: top;\n",
       "    }\n",
       "</style>\n",
       "<table border=\"1\" class=\"dataframe\">\n",
       "  <thead>\n",
       "    <tr style=\"text-align: right;\">\n",
       "      <th></th>\n",
       "      <th>Property Name</th>\n",
       "      <th>plug_load_consumption</th>\n",
       "      <th>ac_consumption</th>\n",
       "      <th>domestic_gas</th>\n",
       "      <th>heating_gas</th>\n",
       "    </tr>\n",
       "  </thead>\n",
       "  <tbody>\n",
       "    <tr>\n",
       "      <th>0</th>\n",
       "      <td>ChurchofStCeciliaReport</td>\n",
       "      <td>11.651406</td>\n",
       "      <td>0.983531</td>\n",
       "      <td>0.096226</td>\n",
       "      <td>0.366193</td>\n",
       "    </tr>\n",
       "  </tbody>\n",
       "</table>\n",
       "</div>"
      ],
      "text/plain": [
       "             Property Name  plug_load_consumption  ac_consumption  \\\n",
       "0  ChurchofStCeciliaReport              11.651406        0.983531   \n",
       "\n",
       "   domestic_gas  heating_gas  \n",
       "0      0.096226     0.366193  "
      ]
     },
     "execution_count": 6,
     "metadata": {},
     "output_type": "execute_result"
    }
   ],
   "source": [
    "#Public buidling energy data \n",
    "cdd_hdd_df.head(1)"
   ]
  },
  {
   "cell_type": "markdown",
   "metadata": {},
   "source": [
    "## 2. Data Preparation"
   ]
  },
  {
   "cell_type": "markdown",
   "metadata": {},
   "source": [
    "#### BlocPower_T.csv Transformation to df"
   ]
  },
  {
   "cell_type": "code",
   "execution_count": 7,
   "metadata": {},
   "outputs": [
    {
     "name": "stdout",
     "output_type": "stream",
     "text": [
      "<class 'pandas.core.frame.DataFrame'>\n",
      "RangeIndex: 103 entries, 0 to 102\n",
      "Data columns (total 6 columns):\n",
      "UTSUM_Electricity_Usage      98 non-null object\n",
      "INFO_Year of Construction    100 non-null object\n",
      "INFO_Number of Stories       103 non-null int64\n",
      "INFO_Total Square Feet       103 non-null object\n",
      "PLEI_1_Quantity              95 non-null float64\n",
      "PLEI_3_Quantity              88 non-null object\n",
      "dtypes: float64(1), int64(1), object(4)\n",
      "memory usage: 4.9+ KB\n"
     ]
    }
   ],
   "source": [
    "#display info\n",
    "bloc_df.info()"
   ]
  },
  {
   "cell_type": "code",
   "execution_count": 8,
   "metadata": {
    "collapsed": true
   },
   "outputs": [],
   "source": [
    "# column 'UTSUM_Electricity_Usage' is an object type with NaN values. \n",
    "\n",
    "#Removes unwanted characters\n",
    "bloc_df['UTSUM_Electricity_Usage'] = bloc_df['UTSUM_Electricity_Usage'].map(lambda x: str(x)[:-4])\n",
    "bloc_df['UTSUM_Electricity_Usage'].replace(regex=True,inplace=True,to_replace=r',',value=r'')\n",
    "\n",
    "#Converts column to float type\n",
    "UT = []\n",
    "for i in bloc_df['UTSUM_Electricity_Usage']:\n",
    "    try:\n",
    "        UT.append(np.float(i))\n",
    "    except:\n",
    "        UT.append(np.nan)\n",
    "bloc_df['UTSUM_Electricity_Usage'] = UT\n",
    "\n",
    "#fills NaNs with mean values\n",
    "mean_usage = bloc_df['UTSUM_Electricity_Usage'].mean()\n",
    "bloc_df['UTSUM_Electricity_Usage'].fillna(mean_usage, inplace=True)"
   ]
  },
  {
   "cell_type": "code",
   "execution_count": 9,
   "metadata": {
    "collapsed": true
   },
   "outputs": [],
   "source": [
    "# column 'INFO_Year of Construction' is an object type with NaN values. \n",
    "\n",
    "#Converts column to float type\n",
    "year = []\n",
    "for i in bloc_df['INFO_Year of Construction']:\n",
    "    try:\n",
    "        year.append(np.float(i))\n",
    "    except:\n",
    "        year.append(np.nan)\n",
    "bloc_df['INFO_Year of Construction'] = year\n",
    "\n",
    "#Calculates Age of building\n",
    "age = []\n",
    "for i in bloc_df['INFO_Year of Construction']:\n",
    "    try:\n",
    "        age.append(2016.0-i)\n",
    "    except:\n",
    "        age.append(np.nan)\n",
    "bloc_df['Age'] = age\n",
    "\n",
    "#fills NaNs with mean values\n",
    "mean_age = bloc_df['Age'].mean()\n",
    "bloc_df['Age'].fillna(mean_age, inplace=True)"
   ]
  },
  {
   "cell_type": "code",
   "execution_count": 10,
   "metadata": {
    "collapsed": true
   },
   "outputs": [],
   "source": [
    "# column 'INFO_Total Square Feet' is an object. \n",
    "\n",
    "#Removes unwanted characters\n",
    "bloc_df['INFO_Total Square Feet'].replace(regex=True,inplace=True,to_replace=r',',value=r'')\n",
    "\n",
    "#Converts column to float type\n",
    "sf = []\n",
    "for i in bloc_df['INFO_Total Square Feet']:\n",
    "    try:\n",
    "        sf.append(np.float(i))\n",
    "    except:\n",
    "        sf.append(np.nan)\n",
    "bloc_df['INFO_Total Square Feet'] = sf"
   ]
  },
  {
   "cell_type": "code",
   "execution_count": 11,
   "metadata": {
    "collapsed": true
   },
   "outputs": [],
   "source": [
    "# column 'PLEI_1_Quantity' has NaN values, interpreted as 0 plugged in electrical equipments\n",
    "\n",
    "#fill NaNs with zeros\n",
    "bloc_df['PLEI_1_Quantity'].fillna(0, inplace=True)"
   ]
  },
  {
   "cell_type": "code",
   "execution_count": 12,
   "metadata": {
    "collapsed": true
   },
   "outputs": [],
   "source": [
    "# column 'PLEI_3_Quantity' is an object type with NaN values, interpreted as 0 plugged in electrical equipments\n",
    "\n",
    "#Converts column to float type\n",
    "plei = []\n",
    "for i in bloc_df['PLEI_3_Quantity']:\n",
    "    try:\n",
    "        plei.append(np.float(i))\n",
    "    except:\n",
    "        plei.append(np.nan)\n",
    "bloc_df['PLEI_3_Quantity'] = plei\n",
    "        \n",
    "#fill NaNs with zeros\n",
    "bloc_df['PLEI_3_Quantity'].fillna(0, inplace=True)"
   ]
  },
  {
   "cell_type": "markdown",
   "metadata": {},
   "source": [
    "#### clusterEnergyLocation.csv Transformation to df"
   ]
  },
  {
   "cell_type": "code",
   "execution_count": 13,
   "metadata": {},
   "outputs": [
    {
     "name": "stdout",
     "output_type": "stream",
     "text": [
      "<class 'pandas.core.frame.DataFrame'>\n",
      "RangeIndex: 103 entries, 0 to 102\n",
      "Data columns (total 7 columns):\n",
      "AddressID                   103 non-null object\n",
      "property_name               103 non-null object\n",
      "Address                     103 non-null object\n",
      "Zipcode                     103 non-null int64\n",
      "Long                        103 non-null float64\n",
      "Lat                         103 non-null float64\n",
      "Annual Energy Bill (USD)    103 non-null object\n",
      "dtypes: float64(2), int64(1), object(4)\n",
      "memory usage: 5.7+ KB\n"
     ]
    }
   ],
   "source": [
    "#display info\n",
    "energy_loc_df.info()"
   ]
  },
  {
   "cell_type": "code",
   "execution_count": 14,
   "metadata": {
    "collapsed": true
   },
   "outputs": [],
   "source": [
    "# column 'Annual Energy Bill (USD)' is an object type. \n",
    "\n",
    "#Removes unwanted characters\n",
    "energy_loc_df['Annual Energy Bill (USD)'].replace(regex=True,inplace=True,to_replace=r'\\$',value=r'')\n",
    "energy_loc_df['Annual Energy Bill (USD)'].replace(regex=True,inplace=True,to_replace=r',',value=r'')\n",
    "\n",
    "#Converts column to float type\n",
    "usd = []\n",
    "for i in energy_loc_df['Annual Energy Bill (USD)']:\n",
    "    try:\n",
    "        usd.append(np.float(i))\n",
    "    except:\n",
    "        usd.append(np.nan)\n",
    "energy_loc_df['Annual Energy Bill (USD)'] = usd"
   ]
  },
  {
   "cell_type": "markdown",
   "metadata": {},
   "source": [
    "#### CDD-HDD-Features.csv Transformation to df"
   ]
  },
  {
   "cell_type": "code",
   "execution_count": 15,
   "metadata": {},
   "outputs": [
    {
     "name": "stdout",
     "output_type": "stream",
     "text": [
      "<class 'pandas.core.frame.DataFrame'>\n",
      "RangeIndex: 103 entries, 0 to 102\n",
      "Data columns (total 5 columns):\n",
      "Property Name            103 non-null object\n",
      "plug_load_consumption    103 non-null float64\n",
      "ac_consumption           103 non-null float64\n",
      "domestic_gas             103 non-null float64\n",
      "heating_gas              103 non-null float64\n",
      "dtypes: float64(4), object(1)\n",
      "memory usage: 4.1+ KB\n"
     ]
    }
   ],
   "source": [
    "cdd_hdd_df.info()"
   ]
  },
  {
   "cell_type": "markdown",
   "metadata": {},
   "source": [
    "#### Bring all Together"
   ]
  },
  {
   "cell_type": "code",
   "execution_count": 16,
   "metadata": {
    "collapsed": true
   },
   "outputs": [],
   "source": [
    "#concatenate with cdd_hdd_df to include domestic gas and heating gas\n",
    "bloc_df= pd.concat([cdd_hdd_df, bloc_df], axis=1)\n",
    "bloc_df= pd.concat([bloc_df, energy_loc_df], axis =1)\n",
    "\n",
    "#Rename Columns\n",
    "bloc_df.columns = ['Property Name', 'Plug Load Consumption', 'AC Consumption','Domestic Gas', 'Heating Gas','Energy Usage', 'Year of Construction', 'Number of Stories', 'Square Feet', 'PLEI_1', 'PLEI_3', 'Age', 'Address ID', 'property_name', 'Address', 'Zipcode', 'Longitude', 'Latitude', 'Annual Energy Bill (USD)' ]\n",
    "bloc_df = bloc_df[['Property Name', 'Energy Usage', 'Age', 'Number of Stories', 'Square Feet', 'PLEI_1', 'PLEI_3', 'Domestic Gas', 'Heating Gas', 'Plug Load Consumption', 'AC Consumption', 'Annual Energy Bill (USD)', 'Year of Construction', 'Address ID', 'Address', 'Zipcode', 'Longitude', 'Latitude']]"
   ]
  },
  {
   "cell_type": "code",
   "execution_count": 17,
   "metadata": {},
   "outputs": [
    {
     "data": {
      "text/html": [
       "<div>\n",
       "<style>\n",
       "    .dataframe thead tr:only-child th {\n",
       "        text-align: right;\n",
       "    }\n",
       "\n",
       "    .dataframe thead th {\n",
       "        text-align: left;\n",
       "    }\n",
       "\n",
       "    .dataframe tbody tr th {\n",
       "        vertical-align: top;\n",
       "    }\n",
       "</style>\n",
       "<table border=\"1\" class=\"dataframe\">\n",
       "  <thead>\n",
       "    <tr style=\"text-align: right;\">\n",
       "      <th></th>\n",
       "      <th>Property Name</th>\n",
       "      <th>Energy Usage</th>\n",
       "      <th>Age</th>\n",
       "      <th>Number of Stories</th>\n",
       "      <th>Square Feet</th>\n",
       "      <th>PLEI_1</th>\n",
       "      <th>PLEI_3</th>\n",
       "      <th>Domestic Gas</th>\n",
       "      <th>Heating Gas</th>\n",
       "      <th>Plug Load Consumption</th>\n",
       "      <th>AC Consumption</th>\n",
       "      <th>Annual Energy Bill (USD)</th>\n",
       "      <th>Year of Construction</th>\n",
       "      <th>Address ID</th>\n",
       "      <th>Address</th>\n",
       "      <th>Zipcode</th>\n",
       "      <th>Longitude</th>\n",
       "      <th>Latitude</th>\n",
       "    </tr>\n",
       "  </thead>\n",
       "  <tbody>\n",
       "    <tr>\n",
       "      <th>0</th>\n",
       "      <td>ChurchofStCeciliaReport</td>\n",
       "      <td>117870.0</td>\n",
       "      <td>61.0</td>\n",
       "      <td>4</td>\n",
       "      <td>14600.0</td>\n",
       "      <td>1.0</td>\n",
       "      <td>2.0</td>\n",
       "      <td>0.096226</td>\n",
       "      <td>0.366193</td>\n",
       "      <td>11.651406</td>\n",
       "      <td>0.983531</td>\n",
       "      <td>21216.6</td>\n",
       "      <td>1955.0</td>\n",
       "      <td>125 East 105th Street10029</td>\n",
       "      <td>125 East 105th Street</td>\n",
       "      <td>10029</td>\n",
       "      <td>-73.947326</td>\n",
       "      <td>40.791919</td>\n",
       "    </tr>\n",
       "  </tbody>\n",
       "</table>\n",
       "</div>"
      ],
      "text/plain": [
       "             Property Name  Energy Usage   Age  Number of Stories  \\\n",
       "0  ChurchofStCeciliaReport      117870.0  61.0                  4   \n",
       "\n",
       "   Square Feet  PLEI_1  PLEI_3  Domestic Gas  Heating Gas  \\\n",
       "0      14600.0     1.0     2.0      0.096226     0.366193   \n",
       "\n",
       "   Plug Load Consumption  AC Consumption  Annual Energy Bill (USD)  \\\n",
       "0              11.651406        0.983531                   21216.6   \n",
       "\n",
       "   Year of Construction                  Address ID                Address  \\\n",
       "0                1955.0  125 East 105th Street10029  125 East 105th Street   \n",
       "\n",
       "   Zipcode  Longitude   Latitude  \n",
       "0    10029 -73.947326  40.791919  "
      ]
     },
     "execution_count": 17,
     "metadata": {},
     "output_type": "execute_result"
    }
   ],
   "source": [
    "bloc_df.head(1)"
   ]
  },
  {
   "cell_type": "code",
   "execution_count": 18,
   "metadata": {},
   "outputs": [
    {
     "name": "stdout",
     "output_type": "stream",
     "text": [
      "<class 'pandas.core.frame.DataFrame'>\n",
      "RangeIndex: 103 entries, 0 to 102\n",
      "Data columns (total 18 columns):\n",
      "Property Name               103 non-null object\n",
      "Energy Usage                103 non-null float64\n",
      "Age                         103 non-null float64\n",
      "Number of Stories           103 non-null int64\n",
      "Square Feet                 103 non-null float64\n",
      "PLEI_1                      103 non-null float64\n",
      "PLEI_3                      103 non-null float64\n",
      "Domestic Gas                103 non-null float64\n",
      "Heating Gas                 103 non-null float64\n",
      "Plug Load Consumption       103 non-null float64\n",
      "AC Consumption              103 non-null float64\n",
      "Annual Energy Bill (USD)    103 non-null float64\n",
      "Year of Construction        96 non-null float64\n",
      "Address ID                  103 non-null object\n",
      "Address                     103 non-null object\n",
      "Zipcode                     103 non-null int64\n",
      "Longitude                   103 non-null float64\n",
      "Latitude                    103 non-null float64\n",
      "dtypes: float64(13), int64(2), object(3)\n",
      "memory usage: 14.6+ KB\n"
     ]
    }
   ],
   "source": [
    "#display info after data cleaned\n",
    "bloc_df.info()"
   ]
  },
  {
   "cell_type": "markdown",
   "metadata": {},
   "source": [
    "## 3. Exploratory Analysis"
   ]
  },
  {
   "cell_type": "code",
   "execution_count": 19,
   "metadata": {},
   "outputs": [
    {
     "name": "stderr",
     "output_type": "stream",
     "text": [
      "C:\\Users\\USER\\Anaconda3\\lib\\site-packages\\ipykernel_launcher.py:6: FutureWarning: 'pandas.tools.plotting.scatter_matrix' is deprecated, import 'pandas.plotting.scatter_matrix' instead.\n",
      "  \n"
     ]
    },
    {
     "data": {
      "image/png": "[encoded data removed]",
      "text/plain": [
       "<matplotlib.figure.Figure at 0x1c63790e2b0>"
      ]
     },
     "metadata": {},
     "output_type": "display_data"
    }
   ],
   "source": [
    "#Show correlation matrix\n",
    "plt.style.use('ggplot')\n",
    "correlations = pd.tools.plotting.scatter_matrix(bloc_df[['Property Name', 'Energy Usage', 'Age', \n",
    "                                                         'Number of Stories', 'Square Feet', 'PLEI_1', \n",
    "                                                         'PLEI_3', 'Domestic Gas', 'Heating Gas']], \n",
    "                                                diagonal='hist',figsize=(12,12), color='#1e90ff')"
   ]
  },
  {
   "cell_type": "code",
   "execution_count": 20,
   "metadata": {},
   "outputs": [
    {
     "data": {
      "image/png": "[encoded data removed]",
      "text/plain": [
       "<matplotlib.figure.Figure at 0x1c638e641d0>"
      ]
     },
     "metadata": {},
     "output_type": "display_data"
    }
   ],
   "source": [
    "#Plot Histograms of Parameters\n",
    "\n",
    "a =plt.subplot(421)\n",
    "sns.distplot(bloc_df[\"Energy Usage\"], color='#1e90ff', kde=False)\n",
    "a.set_title(\"Energy Usage (kWh)\")\n",
    "\n",
    "b =plt.subplot(422)\n",
    "sns.distplot(bloc_df['Age'], color='#1e90ff', kde=False)\n",
    "b.set_title(\"Age of Building\")\n",
    "\n",
    "c =plt.subplot(423)\n",
    "sns.distplot(bloc_df['Square Feet'], color='#1e90ff', kde=False)\n",
    "c.set_title(\"Square Feet\")\n",
    "\n",
    "d =plt.subplot(424)\n",
    "sns.distplot(bloc_df['PLEI_1'], color='#1e90ff', kde=False)\n",
    "d.set_title(\"Plugged Equipement 1\")\n",
    "\n",
    "e =plt.subplot(425)\n",
    "sns.distplot(bloc_df['PLEI_3'], color='#1e90ff', kde=False)\n",
    "e.set_title(\"Plugged Equipement 3\")\n",
    "\n",
    "f =plt.subplot(426)\n",
    "sns.distplot(bloc_df['Domestic Gas'], color='#1e90ff', kde=False)\n",
    "f.set_title(\"Domestic Gas\")\n",
    "\n",
    "g =plt.subplot(427)\n",
    "sns.distplot(bloc_df['Heating Gas'], color='#1e90ff', kde=False)\n",
    "g.set_title(\"Heating Gas\")\n",
    "\n",
    "plt.subplots_adjust(top=2, bottom=0.08, left=0.10, right=2, hspace=.7, wspace=0.3)\n",
    "plt.show()"
   ]
  },
  {
   "cell_type": "markdown",
   "metadata": {},
   "source": [
    "## 4. Regression Analysis"
   ]
  },
  {
   "cell_type": "code",
   "execution_count": 21,
   "metadata": {},
   "outputs": [
    {
     "name": "stdout",
     "output_type": "stream",
     "text": [
      "R-Squared:  0.71750454564\n"
     ]
    },
    {
     "data": {
      "text/html": [
       "<div>\n",
       "<style>\n",
       "    .dataframe thead tr:only-child th {\n",
       "        text-align: right;\n",
       "    }\n",
       "\n",
       "    .dataframe thead th {\n",
       "        text-align: left;\n",
       "    }\n",
       "\n",
       "    .dataframe tbody tr th {\n",
       "        vertical-align: top;\n",
       "    }\n",
       "</style>\n",
       "<table border=\"1\" class=\"dataframe\">\n",
       "  <thead>\n",
       "    <tr style=\"text-align: right;\">\n",
       "      <th></th>\n",
       "      <th>feature_name</th>\n",
       "      <th>coefficient</th>\n",
       "    </tr>\n",
       "  </thead>\n",
       "  <tbody>\n",
       "    <tr>\n",
       "      <th>0</th>\n",
       "      <td>Intercept</td>\n",
       "      <td>-0.067143</td>\n",
       "    </tr>\n",
       "    <tr>\n",
       "      <th>1</th>\n",
       "      <td>Age</td>\n",
       "      <td>-0.023500</td>\n",
       "    </tr>\n",
       "    <tr>\n",
       "      <th>2</th>\n",
       "      <td>Number of Stories</td>\n",
       "      <td>0.048774</td>\n",
       "    </tr>\n",
       "    <tr>\n",
       "      <th>3</th>\n",
       "      <td>Square Feet</td>\n",
       "      <td>0.777122</td>\n",
       "    </tr>\n",
       "    <tr>\n",
       "      <th>4</th>\n",
       "      <td>PLEI_1</td>\n",
       "      <td>0.312308</td>\n",
       "    </tr>\n",
       "    <tr>\n",
       "      <th>5</th>\n",
       "      <td>PLEI_3</td>\n",
       "      <td>0.122954</td>\n",
       "    </tr>\n",
       "    <tr>\n",
       "      <th>6</th>\n",
       "      <td>Domestic Gas</td>\n",
       "      <td>0.229171</td>\n",
       "    </tr>\n",
       "    <tr>\n",
       "      <th>7</th>\n",
       "      <td>Heating Gas</td>\n",
       "      <td>0.143661</td>\n",
       "    </tr>\n",
       "  </tbody>\n",
       "</table>\n",
       "</div>"
      ],
      "text/plain": [
       "        feature_name  coefficient\n",
       "0          Intercept    -0.067143\n",
       "1                Age    -0.023500\n",
       "2  Number of Stories     0.048774\n",
       "3        Square Feet     0.777122\n",
       "4             PLEI_1     0.312308\n",
       "5             PLEI_3     0.122954\n",
       "6       Domestic Gas     0.229171\n",
       "7        Heating Gas     0.143661"
      ]
     },
     "execution_count": 21,
     "metadata": {},
     "output_type": "execute_result"
    }
   ],
   "source": [
    "from sklearn import preprocessing\n",
    "regr_df = bloc_df[['Energy Usage', 'Age', 'Number of Stories', 'Square Feet', 'PLEI_1', 'PLEI_3', 'Domestic Gas', 'Heating Gas']]\n",
    "scaler = preprocessing.MaxAbsScaler() \n",
    "feat = scaler.fit_transform(regr_df)\n",
    "cols = regr_df.columns\n",
    "\n",
    "# define a new dataframe with the scaled data\n",
    "dfScaled = pd.DataFrame(feat,columns=cols)\n",
    "\n",
    "# get a list of the features used to explain energy\n",
    "features = dfScaled.columns.tolist()\n",
    "features.remove('Energy Usage')\n",
    "\n",
    "# declare a linear regression model \n",
    "lr = linear_model.LinearRegression(fit_intercept=True)\n",
    "\n",
    "# define independent variable\n",
    "y = np.array(dfScaled['Energy Usage']) \n",
    "\n",
    "# define features\n",
    "x = dfScaled[features]\n",
    "\n",
    "# fit regression model to the data\n",
    "regression = lr.fit(x,y)\n",
    "coefficient = regression.coef_\n",
    "\n",
    "# collect regression coefficients\n",
    "dataRegQ = []\n",
    "dataRegQ.append(('Intercept', regression.intercept_))\n",
    "for i in range(len(features)):\n",
    "    dataRegQ.append((features[i],coefficient[i]))\n",
    "\n",
    "# compute energy predictions using our fitted model     \n",
    "yh = regression.predict(x)\n",
    "\n",
    "# import package to compute the R-squared quality metric\n",
    "from sklearn.metrics import r2_score\n",
    "# print results\n",
    "print ('R-Squared: ', r2_score(y,yh))\n",
    "pd.DataFrame(dataRegQ,columns=['feature_name','coefficient'])"
   ]
  },
  {
   "cell_type": "code",
   "execution_count": 22,
   "metadata": {
    "scrolled": true
   },
   "outputs": [
    {
     "data": {
      "text/plain": [
       "<matplotlib.text.Text at 0x1c63b42d0f0>"
      ]
     },
     "execution_count": 22,
     "metadata": {},
     "output_type": "execute_result"
    },
    {
     "data": {
      "image/png": "[encoded data removed]",
      "text/plain": [
       "<matplotlib.figure.Figure at 0x1c638ffb630>"
      ]
     },
     "metadata": {},
     "output_type": "display_data"
    }
   ],
   "source": [
    "#Plot dashed line to represent perfect model\n",
    "x1=[0,1]\n",
    "y1=[0,1]\n",
    "plt.plot(x1, y1, linewidth=2.0, linestyle='dashed', color='#696969')\n",
    "\n",
    "#plot observed vs. predicted values\n",
    "sns.regplot(y,yh, fit_reg=False, color = '#1e90ff')\n",
    "plt.xlabel('Observed Values', fontsize=20)\n",
    "plt.ylabel('Predicted Values', fontsize=20)\n",
    "plt.title('Energy Usage', fontsize=20)"
   ]
  },
  {
   "cell_type": "markdown",
   "metadata": {},
   "source": [
    "## 5. Labelling Inefficient Buildings"
   ]
  },
  {
   "cell_type": "code",
   "execution_count": 23,
   "metadata": {},
   "outputs": [
    {
     "data": {
      "text/plain": [
       "<matplotlib.text.Text at 0x1c63b47cd30>"
      ]
     },
     "execution_count": 23,
     "metadata": {},
     "output_type": "execute_result"
    },
    {
     "data": {
      "image/png": "[encoded data removed]",
      "text/plain": [
       "<matplotlib.figure.Figure at 0x1c637d36cf8>"
      ]
     },
     "metadata": {},
     "output_type": "display_data"
    }
   ],
   "source": [
    "#calculate kwh/sq ft and add to data frame\n",
    "bloc_df['kwh/sq ft'] = bloc_df['Energy Usage']/bloc_df['Square Feet']\n",
    "\n",
    "#plot histogram of kwh/sq ft\n",
    "plt.hist(bloc_df['kwh/sq ft'], color = '#1e90ff')\n",
    "plt.title('Efficiency: kwh/sq ft')\n",
    "plt.xlabel('kwh/sq ft', fontsize=15)"
   ]
  },
  {
   "cell_type": "code",
   "execution_count": 24,
   "metadata": {
    "collapsed": true
   },
   "outputs": [],
   "source": [
    "#Buildings with kwh/sq ft>20 will be lables as Inefficient with a True value\n",
    "bloc_df['Inefficient'] = bloc_df['kwh/sq ft']>20"
   ]
  },
  {
   "cell_type": "markdown",
   "metadata": {},
   "source": [
    "## 6. Modelling: Unsupervised Learning"
   ]
  },
  {
   "cell_type": "markdown",
   "metadata": {},
   "source": [
    "#### Kmeans using all parameters"
   ]
  },
  {
   "cell_type": "code",
   "execution_count": 25,
   "metadata": {
    "collapsed": true
   },
   "outputs": [],
   "source": [
    "#Using all parameters\n",
    "kmeans_df1 = bloc_df.copy(deep=True)\n",
    "del kmeans_df1['Inefficient']\n",
    "del kmeans_df1['Property Name']\n",
    "del kmeans_df1['Year of Construction']\n",
    "del kmeans_df1['Address ID']\n",
    "del kmeans_df1['Address']\n",
    "del kmeans_df1['Zipcode']\n",
    "del kmeans_df1['Longitude']\n",
    "del kmeans_df1['Latitude']\n",
    "del kmeans_df1['kwh/sq ft']"
   ]
  },
  {
   "cell_type": "code",
   "execution_count": 26,
   "metadata": {},
   "outputs": [
    {
     "name": "stdout",
     "output_type": "stream",
     "text": [
      "k = 2\n"
     ]
    },
    {
     "data": {
      "image/png": "[encoded data removed]",
      "text/plain": [
       "<matplotlib.figure.Figure at 0x1c63ba56f60>"
      ]
     },
     "metadata": {},
     "output_type": "display_data"
    }
   ],
   "source": [
    "#Choosing K-clusters: elbow method\n",
    "import scipy\n",
    "from sklearn.cluster import KMeans\n",
    "\n",
    "#Create numpy matrix x_cols\n",
    "x_cols = kmeans_df1.as_matrix()\n",
    "\n",
    "#Construct plot showing SS for each K\n",
    "x =list(range(1,11))\n",
    "y =[]\n",
    "for k in range(1,11):\n",
    "    kmeans = KMeans(n_clusters = k)\n",
    "    kmeans.fit(x_cols)\n",
    "    y.append(kmeans.inertia_)\n",
    "plt.plot(x,y, color ='#1e90ff')\n",
    "plt.ylabel(\"SS\", fontsize=20)\n",
    "plt.xlabel(\"Number of Clusters\", fontsize=20)\n",
    "print('k = 2')"
   ]
  },
  {
   "cell_type": "code",
   "execution_count": 27,
   "metadata": {},
   "outputs": [
    {
     "data": {
      "text/plain": [
       "<seaborn.axisgrid.FacetGrid at 0x1c63bf74128>"
      ]
     },
     "execution_count": 27,
     "metadata": {},
     "output_type": "execute_result"
    },
    {
     "data": {
      "image/png": "[encoded data removed]",
      "text/plain": [
       "<matplotlib.figure.Figure at 0x1c63bf68390>"
      ]
     },
     "metadata": {},
     "output_type": "display_data"
    }
   ],
   "source": [
    "#visualize clusters using PCA method\n",
    "import sklearn\n",
    "kmeans = KMeans(n_clusters = 2)\n",
    "kmeans.fit(x_cols)\n",
    "labels = kmeans.labels_\n",
    "\n",
    "#create data frame with only two components\n",
    "pca = sklearn.decomposition.PCA(n_components=2)\n",
    "pca.fit(kmeans_df1)\n",
    "df_pca = pd.DataFrame(pca.transform(kmeans_df1))\n",
    "df_pca.index = kmeans_df1.index\n",
    "df_pca['labels'] = labels\n",
    "df_pca.columns = ['x', 'y', 'labels']\n",
    "\n",
    "#Plot scatter \n",
    "sns.lmplot(data=df_pca, x='x', y='y', hue='labels', size=8, fit_reg=False,scatter_kws={'s':100})"
   ]
  },
  {
   "cell_type": "code",
   "execution_count": 28,
   "metadata": {},
   "outputs": [
    {
     "data": {
      "text/plain": [
       "0.84466019417475724"
      ]
     },
     "execution_count": 28,
     "metadata": {},
     "output_type": "execute_result"
    }
   ],
   "source": [
    "#Accuracy of model\n",
    "(len(bloc_df)-sum(abs(bloc_df['Inefficient']-labels)))/len(bloc_df)"
   ]
  },
  {
   "cell_type": "markdown",
   "metadata": {},
   "source": [
    "#### Kmeans using energy parameters"
   ]
  },
  {
   "cell_type": "code",
   "execution_count": 29,
   "metadata": {
    "collapsed": true
   },
   "outputs": [],
   "source": [
    "#Create dataframe with dimension used to measure energy inefficiencies scaled by dividing building square footage\n",
    "bloc_df['Square Feet'] = sf\n",
    "d1 = bloc_df['Domestic Gas']/sf\n",
    "d2 = bloc_df['Heating Gas']/sf\n",
    "d3 = bloc_df['Plug Load Consumption']/sf\n",
    "d4 = bloc_df['AC Consumption']/sf\n",
    "columns = ['Domestic Gas', 'Heating Gas', 'Plug Load Consumption', 'AC Consumption']\n",
    "kmeans_df2 = pd.DataFrame(columns=columns)\n",
    "kmeans_df2['Domestic Gas'] = d1\n",
    "kmeans_df2['Heating Gas'] = d2\n",
    "kmeans_df2['Plug Load Consumption'] = d3\n",
    "kmeans_df2['AC Consumption'] = d4"
   ]
  },
  {
   "cell_type": "code",
   "execution_count": 30,
   "metadata": {},
   "outputs": [
    {
     "name": "stdout",
     "output_type": "stream",
     "text": [
      "k = 2\n"
     ]
    },
    {
     "data": {
      "image/png": "[encoded data removed]",
      "text/plain": [
       "<matplotlib.figure.Figure at 0x1c63bf74a90>"
      ]
     },
     "metadata": {},
     "output_type": "display_data"
    }
   ],
   "source": [
    "#Choosing K-clusters: elbow method\n",
    "import scipy\n",
    "from sklearn.cluster import KMeans\n",
    "\n",
    "#Create numpy matrix x_cols\n",
    "x_cols = kmeans_df2.as_matrix()\n",
    "\n",
    "#Construct plot showing SS for each K\n",
    "x =list(range(1,11))\n",
    "y =[]\n",
    "for k in range(1,11):\n",
    "    kmeans = KMeans(n_clusters = k)\n",
    "    kmeans.fit(x_cols)\n",
    "    y.append(kmeans.inertia_)\n",
    "plt.plot(x,y, color ='#1e90ff')\n",
    "plt.ylabel(\"SS\", fontsize=20)\n",
    "plt.xlabel(\"Number of Clusters\", fontsize=20)\n",
    "print('k = 2')"
   ]
  },
  {
   "cell_type": "code",
   "execution_count": 31,
   "metadata": {},
   "outputs": [
    {
     "data": {
      "text/plain": [
       "<seaborn.axisgrid.FacetGrid at 0x1c63c68fbe0>"
      ]
     },
     "execution_count": 31,
     "metadata": {},
     "output_type": "execute_result"
    },
    {
     "data": {
      "image/png": "[encoded data removed]",
      "text/plain": [
       "<matplotlib.figure.Figure at 0x1c63c68f898>"
      ]
     },
     "metadata": {},
     "output_type": "display_data"
    }
   ],
   "source": [
    "#visualize clusters using PCA method\n",
    "import sklearn\n",
    "kmeans = KMeans(n_clusters = 2)\n",
    "kmeans.fit(x_cols)\n",
    "labels = kmeans.labels_\n",
    "\n",
    "#create data frame with only two components\n",
    "pca = sklearn.decomposition.PCA(n_components=2)\n",
    "pca.fit(kmeans_df2)\n",
    "df_pca = pd.DataFrame(pca.transform(kmeans_df2))\n",
    "df_pca.index = kmeans_df2.index\n",
    "df_pca['labels'] = labels\n",
    "df_pca.columns = ['x', 'y', 'labels']\n",
    "\n",
    "#Plot scatter \n",
    "sns.lmplot(data=df_pca, x='x', y='y', hue='labels', size=8, fit_reg=False,scatter_kws={'s':100})"
   ]
  },
  {
   "cell_type": "code",
   "execution_count": 35,
   "metadata": {},
   "outputs": [
    {
     "data": {
      "text/plain": [
       "0.96116504854368934"
      ]
     },
     "execution_count": 35,
     "metadata": {},
     "output_type": "execute_result"
    }
   ],
   "source": [
    "#Accuracy of model\n",
    "1 - sum(abs(bloc_df['Inefficient']-labels))/len(bloc_df)"
   ]
  },
  {
   "cell_type": "markdown",
   "metadata": {},
   "source": [
    "# 7. Modelling: Supervised Learning"
   ]
  },
  {
   "cell_type": "markdown",
   "metadata": {},
   "source": [
    "#### Random Forrest Classifier using all parameters"
   ]
  },
  {
   "cell_type": "code",
   "execution_count": 36,
   "metadata": {},
   "outputs": [
    {
     "name": "stderr",
     "output_type": "stream",
     "text": [
      "C:\\Users\\USER\\Anaconda3\\lib\\site-packages\\sklearn\\cross_validation.py:44: DeprecationWarning: This module was deprecated in version 0.18 in favor of the model_selection module into which all the refactored classes and functions are moved. Also note that the interface of the new CV iterators are different from that of this module. This module will be removed in 0.20.\n",
      "  \"This module will be removed in 0.20.\", DeprecationWarning)\n"
     ]
    }
   ],
   "source": [
    "from sklearn.ensemble import RandomForestClassifier\n",
    "from sklearn.cross_validation import train_test_split\n",
    "from sklearn.datasets import load_iris"
   ]
  },
  {
   "cell_type": "code",
   "execution_count": 37,
   "metadata": {
    "collapsed": true
   },
   "outputs": [],
   "source": [
    "# separate parameters and labels\n",
    "df_x = bloc_df.iloc[:,1:11]\n",
    "df_y = bloc_df.iloc[:,19]"
   ]
  },
  {
   "cell_type": "code",
   "execution_count": 38,
   "metadata": {
    "collapsed": true
   },
   "outputs": [],
   "source": [
    "#split data into training and testing sets\n",
    "x_train, x_test, y_train, y_test = train_test_split(df_x, df_y, test_size=.2, random_state=4)"
   ]
  },
  {
   "cell_type": "code",
   "execution_count": 39,
   "metadata": {},
   "outputs": [
    {
     "data": {
      "text/plain": [
       "RandomForestClassifier(bootstrap=True, class_weight=None, criterion='gini',\n",
       "            max_depth=None, max_features='auto', max_leaf_nodes=None,\n",
       "            min_impurity_split=1e-07, min_samples_leaf=1,\n",
       "            min_samples_split=2, min_weight_fraction_leaf=0.0,\n",
       "            n_estimators=100, n_jobs=1, oob_score=False, random_state=None,\n",
       "            verbose=0, warm_start=False)"
      ]
     },
     "execution_count": 39,
     "metadata": {},
     "output_type": "execute_result"
    }
   ],
   "source": [
    "#Run Random Forrest\n",
    "rf = RandomForestClassifier(n_estimators=100)\n",
    "rf.fit(x_train, y_train)"
   ]
  },
  {
   "cell_type": "code",
   "execution_count": 40,
   "metadata": {
    "collapsed": true
   },
   "outputs": [],
   "source": [
    "#Calculate predictions based testing data\n",
    "predictions = rf.predict(x_test)"
   ]
  },
  {
   "cell_type": "code",
   "execution_count": 41,
   "metadata": {},
   "outputs": [
    {
     "data": {
      "text/plain": [
       "1.0"
      ]
     },
     "execution_count": 41,
     "metadata": {},
     "output_type": "execute_result"
    }
   ],
   "source": [
    "#Model Accuracy\n",
    "count = 0\n",
    "for i in range(len(predictions)):\n",
    "    if predictions[i]==y_test.values[i]:\n",
    "        count+=1\n",
    "count/len(predictions)"
   ]
  },
  {
   "cell_type": "code",
   "execution_count": 42,
   "metadata": {},
   "outputs": [
    {
     "name": "stdout",
     "output_type": "stream",
     "text": [
      "Feature ranking:\n",
      "1. feature 8 (0.349191)\n",
      "2. feature 9 (0.255619)\n",
      "3. feature 6 (0.098710)\n",
      "4. feature 0 (0.062940)\n",
      "5. feature 3 (0.058034)\n",
      "6. feature 1 (0.048525)\n",
      "7. feature 5 (0.038545)\n",
      "8. feature 2 (0.034186)\n",
      "9. feature 4 (0.030075)\n",
      "10. feature 7 (0.024176)\n"
     ]
    },
    {
     "data": {
      "image/png": "[encoded data removed]",
      "text/plain": [
       "<matplotlib.figure.Figure at 0x1c63cdf2f60>"
      ]
     },
     "metadata": {},
     "output_type": "display_data"
    }
   ],
   "source": [
    "#Plot Feature Importances\n",
    "\n",
    "from sklearn.datasets import make_classification\n",
    "from sklearn.ensemble import ExtraTreesClassifier\n",
    "\n",
    "# Build a classification task using informative features\n",
    "X, y = x_train, y_train\n",
    "\n",
    "# Build a forest and compute the feature importances\n",
    "forest = ExtraTreesClassifier(n_estimators=250,\n",
    "                              random_state=0)\n",
    "\n",
    "forest.fit(X, y)\n",
    "\n",
    "importances = forest.feature_importances_\n",
    "std = np.std([tree.feature_importances_ for tree in forest.estimators_],\n",
    "             axis=0)\n",
    "indices = np.argsort(importances)[::-1]\n",
    "\n",
    "# Print the feature ranking\n",
    "print(\"Feature ranking:\")\n",
    "\n",
    "for f in range(X.shape[1]):\n",
    "    print(\"%d. feature %d (%f)\" % (f + 1, indices[f], importances[indices[f]]))\n",
    "\n",
    "# Plot the feature importances of the forest\n",
    "plt.figure()\n",
    "plt.title(\"Feature Importances\")\n",
    "plt.bar(range(X.shape[1]), importances[indices],\n",
    "       color=\"#1e90ff\", yerr=std[indices], align=\"center\")\n",
    "plt.xticks(range(X.shape[1]), indices)\n",
    "plt.xlim([-1, X.shape[1]])\n",
    "plt.show()"
   ]
  },
  {
   "cell_type": "code",
   "execution_count": 43,
   "metadata": {},
   "outputs": [
    {
     "data": {
      "text/html": [
       "<div>\n",
       "<style>\n",
       "    .dataframe thead tr:only-child th {\n",
       "        text-align: right;\n",
       "    }\n",
       "\n",
       "    .dataframe thead th {\n",
       "        text-align: left;\n",
       "    }\n",
       "\n",
       "    .dataframe tbody tr th {\n",
       "        vertical-align: top;\n",
       "    }\n",
       "</style>\n",
       "<table border=\"1\" class=\"dataframe\">\n",
       "  <thead>\n",
       "    <tr style=\"text-align: right;\">\n",
       "      <th></th>\n",
       "      <th>Energy Usage</th>\n",
       "      <th>Age</th>\n",
       "      <th>Number of Stories</th>\n",
       "      <th>Square Feet</th>\n",
       "      <th>PLEI_1</th>\n",
       "      <th>PLEI_3</th>\n",
       "      <th>Domestic Gas</th>\n",
       "      <th>Heating Gas</th>\n",
       "      <th>Plug Load Consumption</th>\n",
       "      <th>AC Consumption</th>\n",
       "    </tr>\n",
       "  </thead>\n",
       "  <tbody>\n",
       "    <tr>\n",
       "      <th>86</th>\n",
       "      <td>54860.0</td>\n",
       "      <td>87.0</td>\n",
       "      <td>2</td>\n",
       "      <td>800.0</td>\n",
       "      <td>1.0</td>\n",
       "      <td>0.0</td>\n",
       "      <td>2.767528</td>\n",
       "      <td>1.341849</td>\n",
       "      <td>56.222162</td>\n",
       "      <td>14.778739</td>\n",
       "    </tr>\n",
       "  </tbody>\n",
       "</table>\n",
       "</div>"
      ],
      "text/plain": [
       "    Energy Usage   Age  Number of Stories  Square Feet  PLEI_1  PLEI_3  \\\n",
       "86       54860.0  87.0                  2        800.0     1.0     0.0   \n",
       "\n",
       "    Domestic Gas  Heating Gas  Plug Load Consumption  AC Consumption  \n",
       "86      2.767528     1.341849              56.222162       14.778739  "
      ]
     },
     "execution_count": 43,
     "metadata": {},
     "output_type": "execute_result"
    }
   ],
   "source": [
    "x_train.head(1)"
   ]
  },
  {
   "cell_type": "markdown",
   "metadata": {},
   "source": [
    "# 8. Geographic Visualization"
   ]
  },
  {
   "cell_type": "code",
   "execution_count": 106,
   "metadata": {},
   "outputs": [
    {
     "name": "stdout",
     "output_type": "stream",
     "text": [
      "0.3.0\n"
     ]
    }
   ],
   "source": [
    "import os\n",
    "import folium\n",
    "\n",
    "print(folium.__version__)"
   ]
  },
  {
   "cell_type": "code",
   "execution_count": 107,
   "metadata": {
    "collapsed": true
   },
   "outputs": [],
   "source": [
    "#Create list of coordinates for all buildings\n",
    "df = bloc_df[['Latitude', 'Longitude', 'Inefficient']]\n",
    "df = df[['Latitude', 'Longitude']]\n",
    "locations = []\n",
    "for i in df.values:\n",
    "    locations.append((i[0],i[1]))\n",
    "\n",
    "#Create list of coordinates for inefficient buildings    \n",
    "inefficient_df = bloc_df[['Latitude', 'Longitude', 'Inefficient']]\n",
    "inefficient_df = inefficient_df[inefficient_df['Inefficient']==True]\n",
    "inefficient_df = inefficient_df[['Latitude', 'Longitude']]\n",
    "locations_in = []\n",
    "for i in inefficient_df.values:\n",
    "    locations_in.append((i[0],i[1]))"
   ]
  },
  {
   "cell_type": "code",
   "execution_count": 108,
   "metadata": {
    "scrolled": false
   },
   "outputs": [
    {
     "data": {
      "text/html": [
       "<div style=\"width:100%;\"><div style=\"position:relative;width:100%;height:0;padding-bottom:60%;\"><iframe src=\"data:text/html;charset=utf-8;base64,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\" style=\"position:absolute;width:100%;height:100%;left:0;top:0;border:none !important;\" allowfullscreen webkitallowfullscreen mozallowfullscreen></iframe></div></div>"
      ],
      "text/plain": [
       "<folium.folium.Map at 0x1c63d427710>"
      ]
     },
     "execution_count": 108,
     "metadata": {},
     "output_type": "execute_result"
    }
   ],
   "source": [
    "#Map all buildings\n",
    "from folium.plugins import MarkerCluster\n",
    "\n",
    "m = folium.Map(location=[df[\"Latitude\"].mean(), df[\"Longitude\"].mean()],\n",
    "                  tiles='Cartodb Positron', zoom_start=10.3)\n",
    "popups = ['{}'.format(loc) for loc in locations]\n",
    "m.add_child(MarkerCluster(locations=locations, popups=popups,))\n",
    "\n",
    "m"
   ]
  },
  {
   "cell_type": "code",
   "execution_count": 109,
   "metadata": {},
   "outputs": [
    {
     "data": {
      "text/html": [
       "<div style=\"width:100%;\"><div style=\"position:relative;width:100%;height:0;padding-bottom:60%;\"><iframe src=\"data:text/html;charset=utf-8;base64,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\" style=\"position:absolute;width:100%;height:100%;left:0;top:0;border:none !important;\" allowfullscreen webkitallowfullscreen mozallowfullscreen></iframe></div></div>"
      ],
      "text/plain": [
       "<folium.folium.Map at 0x1c640d1cc18>"
      ]
     },
     "execution_count": 109,
     "metadata": {},
     "output_type": "execute_result"
    }
   ],
   "source": [
    "#Map inefficient buildings\n",
    "from folium.plugins import MarkerCluster\n",
    "\n",
    "m = folium.Map(location=[df[\"Latitude\"].mean(), df[\"Longitude\"].mean()],\n",
    "                  tiles='Cartodb Positron', zoom_start=10.3)\n",
    "popups = ['{}'.format(loc) for loc in locations_in]\n",
    "m.add_child(MarkerCluster(locations=locations_in, popups=popups,))\n",
    "\n",
    "m"
   ]
  },
  {
   "cell_type": "markdown",
   "metadata": {},
   "source": [
    "# 9 Environmental Performance"
   ]
  },
  {
   "cell_type": "markdown",
   "metadata": {},
   "source": [
    "Greenhouse gas emmisison will be used as an environmetal performance metric. Since energy usage is in kWh a, conversion is required. Weill use EPA's Emission Factor 7.03 × 10-4 metric tons CO2 / kWh to convert to GHG emissions."
   ]
  },
  {
   "cell_type": "code",
   "execution_count": 100,
   "metadata": {},
   "outputs": [
    {
     "data": {
      "text/html": [
       "<div>\n",
       "<style>\n",
       "    .dataframe thead tr:only-child th {\n",
       "        text-align: right;\n",
       "    }\n",
       "\n",
       "    .dataframe thead th {\n",
       "        text-align: left;\n",
       "    }\n",
       "\n",
       "    .dataframe tbody tr th {\n",
       "        vertical-align: top;\n",
       "    }\n",
       "</style>\n",
       "<table border=\"1\" class=\"dataframe\">\n",
       "  <thead>\n",
       "    <tr style=\"text-align: right;\">\n",
       "      <th></th>\n",
       "      <th>GHG Emission (mt)</th>\n",
       "      <th>Inefficient</th>\n",
       "    </tr>\n",
       "  </thead>\n",
       "  <tbody>\n",
       "    <tr>\n",
       "      <th>8</th>\n",
       "      <td>267.421200</td>\n",
       "      <td>False</td>\n",
       "    </tr>\n",
       "    <tr>\n",
       "      <th>6</th>\n",
       "      <td>160.976455</td>\n",
       "      <td>False</td>\n",
       "    </tr>\n",
       "    <tr>\n",
       "      <th>7</th>\n",
       "      <td>160.976455</td>\n",
       "      <td>False</td>\n",
       "    </tr>\n",
       "    <tr>\n",
       "      <th>70</th>\n",
       "      <td>144.351208</td>\n",
       "      <td>False</td>\n",
       "    </tr>\n",
       "    <tr>\n",
       "      <th>99</th>\n",
       "      <td>130.970306</td>\n",
       "      <td>False</td>\n",
       "    </tr>\n",
       "    <tr>\n",
       "      <th>54</th>\n",
       "      <td>127.130520</td>\n",
       "      <td>True</td>\n",
       "    </tr>\n",
       "    <tr>\n",
       "      <th>58</th>\n",
       "      <td>119.678720</td>\n",
       "      <td>True</td>\n",
       "    </tr>\n",
       "    <tr>\n",
       "      <th>51</th>\n",
       "      <td>109.724240</td>\n",
       "      <td>False</td>\n",
       "    </tr>\n",
       "    <tr>\n",
       "      <th>34</th>\n",
       "      <td>93.456820</td>\n",
       "      <td>False</td>\n",
       "    </tr>\n",
       "    <tr>\n",
       "      <th>0</th>\n",
       "      <td>82.862610</td>\n",
       "      <td>False</td>\n",
       "    </tr>\n",
       "  </tbody>\n",
       "</table>\n",
       "</div>"
      ],
      "text/plain": [
       "    GHG Emission (mt)  Inefficient\n",
       "8          267.421200        False\n",
       "6          160.976455        False\n",
       "7          160.976455        False\n",
       "70         144.351208        False\n",
       "99         130.970306        False\n",
       "54         127.130520         True\n",
       "58         119.678720         True\n",
       "51         109.724240        False\n",
       "34          93.456820        False\n",
       "0           82.862610        False"
      ]
     },
     "execution_count": 100,
     "metadata": {},
     "output_type": "execute_result"
    }
   ],
   "source": [
    "bloc_df['GHG Emission (mt)'] = bloc_df['Energy Usage']*.000703\n",
    "bloc_df[['GHG Emission (mt)', 'Inefficient']].sort_values('GHG Emission (mt)', ascending=False).head(10)"
   ]
  },
  {
   "cell_type": "markdown",
   "metadata": {},
   "source": [
    "Based on GHG emissions only, is not enough to show environmental performance. Let's use a benchmark."
   ]
  },
  {
   "cell_type": "code",
   "execution_count": 49,
   "metadata": {},
   "outputs": [
    {
     "data": {
      "text/html": [
       "<div>\n",
       "<style>\n",
       "    .dataframe thead tr:only-child th {\n",
       "        text-align: right;\n",
       "    }\n",
       "\n",
       "    .dataframe thead th {\n",
       "        text-align: left;\n",
       "    }\n",
       "\n",
       "    .dataframe tbody tr th {\n",
       "        vertical-align: top;\n",
       "    }\n",
       "</style>\n",
       "<table border=\"1\" class=\"dataframe\">\n",
       "  <thead>\n",
       "    <tr style=\"text-align: right;\">\n",
       "      <th></th>\n",
       "      <th>Borough</th>\n",
       "      <th>Block</th>\n",
       "      <th>Lot</th>\n",
       "      <th>BIN</th>\n",
       "      <th>Building</th>\n",
       "      <th>Agency</th>\n",
       "      <th>2010 Score *</th>\n",
       "      <th>2010Source EUI (kBtu/ft²)*</th>\n",
       "      <th>2010 GHG Emissions Intensity (kgCO2e/ft²)*</th>\n",
       "      <th>2014 Score *</th>\n",
       "      <th>2014 Source EUI (kBtu/ft²)*</th>\n",
       "      <th>2014 GHG Emissions Intensity (kgCO2e/ft²)*</th>\n",
       "    </tr>\n",
       "  </thead>\n",
       "  <tbody>\n",
       "    <tr>\n",
       "      <th>0</th>\n",
       "      <td>1</td>\n",
       "      <td>93.0</td>\n",
       "      <td>1.0</td>\n",
       "      <td>1001280.0</td>\n",
       "      <td>ACS Administrative Site (Leased)</td>\n",
       "      <td>ACS</td>\n",
       "      <td>57</td>\n",
       "      <td>239</td>\n",
       "      <td>6.2</td>\n",
       "      <td>76</td>\n",
       "      <td>219.5</td>\n",
       "      <td>5.8</td>\n",
       "    </tr>\n",
       "  </tbody>\n",
       "</table>\n",
       "</div>"
      ],
      "text/plain": [
       "  Borough  Block  Lot        BIN                          Building Agency  \\\n",
       "0       1   93.0  1.0  1001280.0  ACS Administrative Site (Leased)    ACS   \n",
       "\n",
       "  2010 Score * 2010Source EUI (kBtu/ft²)*  \\\n",
       "0           57                        239   \n",
       "\n",
       "  2010 GHG Emissions Intensity (kgCO2e/ft²)* 2014 Score *  \\\n",
       "0                                        6.2           76   \n",
       "\n",
       "  2014 Source EUI (kBtu/ft²)* 2014 GHG Emissions Intensity (kgCO2e/ft²)*  \n",
       "0                       219.5                                        5.8  "
      ]
     },
     "execution_count": 49,
     "metadata": {},
     "output_type": "execute_result"
    }
   ],
   "source": [
    "#Import Municipal Energy Benchmark from https://data.cityofnewyork.us\n",
    "benchmark = pd.read_csv('NYC_Municipal_Building_Energy_Benchmarking_Results__2014_.csv')\n",
    "benchmark.head(1)"
   ]
  },
  {
   "cell_type": "code",
   "execution_count": 50,
   "metadata": {},
   "outputs": [
    {
     "data": {
      "text/plain": [
       "0.007687353535353535"
      ]
     },
     "execution_count": 50,
     "metadata": {},
     "output_type": "execute_result"
    }
   ],
   "source": [
    "#Data cleanup for benchmark\n",
    "intensity = []\n",
    "for i in benchmark['2014 GHG Emissions Intensity (kgCO2e/ft²)*']:\n",
    "    try:\n",
    "        intensity.append(np.float(i))\n",
    "    except:\n",
    "        intensity.append(np.nan)\n",
    "benchmark['2014 GHG Emissions Intensity (kgCO2e/ft²)*'] = intensity\n",
    "bench_value = (benchmark['2014 GHG Emissions Intensity (kgCO2e/ft²)*']/1000).mean()\n",
    "bench_value"
   ]
  },
  {
   "cell_type": "code",
   "execution_count": 51,
   "metadata": {},
   "outputs": [
    {
     "data": {
      "text/plain": [
       "23"
      ]
     },
     "execution_count": 51,
     "metadata": {},
     "output_type": "execute_result"
    }
   ],
   "source": [
    "bloc_df['Emissions Intensity'] = bloc_df['GHG Emission (mt)']/bloc_df['Square Feet']\n",
    "len(bloc_df[bloc_df['Emissions Intensity']>bench_value][['Emissions Intensity','Inefficient']])"
   ]
  },
  {
   "cell_type": "code",
   "execution_count": 101,
   "metadata": {},
   "outputs": [
    {
     "data": {
      "text/html": [
       "<div>\n",
       "<style>\n",
       "    .dataframe thead tr:only-child th {\n",
       "        text-align: right;\n",
       "    }\n",
       "\n",
       "    .dataframe thead th {\n",
       "        text-align: left;\n",
       "    }\n",
       "\n",
       "    .dataframe tbody tr th {\n",
       "        vertical-align: top;\n",
       "    }\n",
       "</style>\n",
       "<table border=\"1\" class=\"dataframe\">\n",
       "  <thead>\n",
       "    <tr style=\"text-align: right;\">\n",
       "      <th></th>\n",
       "      <th>Property Name</th>\n",
       "      <th>Emissions Intensity</th>\n",
       "      <th>Inefficient</th>\n",
       "    </tr>\n",
       "  </thead>\n",
       "  <tbody>\n",
       "    <tr>\n",
       "      <th>86</th>\n",
       "      <td>PaninicoCafeReport</td>\n",
       "      <td>0.048208</td>\n",
       "      <td>True</td>\n",
       "    </tr>\n",
       "    <tr>\n",
       "      <th>101</th>\n",
       "      <td>LunaNYCafeCorpReport</td>\n",
       "      <td>0.044468</td>\n",
       "      <td>True</td>\n",
       "    </tr>\n",
       "    <tr>\n",
       "      <th>84</th>\n",
       "      <td>CAAABagels</td>\n",
       "      <td>0.043554</td>\n",
       "      <td>True</td>\n",
       "    </tr>\n",
       "    <tr>\n",
       "      <th>87</th>\n",
       "      <td>Curran'sSuperiorMeatsReport</td>\n",
       "      <td>0.039017</td>\n",
       "      <td>True</td>\n",
       "    </tr>\n",
       "    <tr>\n",
       "      <th>98</th>\n",
       "      <td>NewTestamentChristianChurch</td>\n",
       "      <td>0.034172</td>\n",
       "      <td>True</td>\n",
       "    </tr>\n",
       "    <tr>\n",
       "      <th>5</th>\n",
       "      <td>MoonbluIncdbaJoyBurgerBar</td>\n",
       "      <td>0.034172</td>\n",
       "      <td>True</td>\n",
       "    </tr>\n",
       "    <tr>\n",
       "      <th>54</th>\n",
       "      <td>AnchorHouse-ParkPl</td>\n",
       "      <td>0.027910</td>\n",
       "      <td>True</td>\n",
       "    </tr>\n",
       "    <tr>\n",
       "      <th>80</th>\n",
       "      <td>NYSERDA_Energy_Assessment_-_1011_Tavern_Corp_-...</td>\n",
       "      <td>0.026384</td>\n",
       "      <td>True</td>\n",
       "    </tr>\n",
       "    <tr>\n",
       "      <th>1</th>\n",
       "      <td>69thLaneStudio</td>\n",
       "      <td>0.018989</td>\n",
       "      <td>True</td>\n",
       "    </tr>\n",
       "    <tr>\n",
       "      <th>58</th>\n",
       "      <td>AnchorHouse-BergenSt</td>\n",
       "      <td>0.018985</td>\n",
       "      <td>True</td>\n",
       "    </tr>\n",
       "    <tr>\n",
       "      <th>51</th>\n",
       "      <td>CongregationOhabZedekSynagogue</td>\n",
       "      <td>0.013983</td>\n",
       "      <td>False</td>\n",
       "    </tr>\n",
       "    <tr>\n",
       "      <th>76</th>\n",
       "      <td>NYSERDA_Energy_Assessment_-_DAC_Unisex_Beauty_...</td>\n",
       "      <td>0.012874</td>\n",
       "      <td>False</td>\n",
       "    </tr>\n",
       "    <tr>\n",
       "      <th>11</th>\n",
       "      <td>PentecostalHouseofPrayer</td>\n",
       "      <td>0.012815</td>\n",
       "      <td>False</td>\n",
       "    </tr>\n",
       "    <tr>\n",
       "      <th>89</th>\n",
       "      <td>ThaiRock</td>\n",
       "      <td>0.011434</td>\n",
       "      <td>False</td>\n",
       "    </tr>\n",
       "    <tr>\n",
       "      <th>73</th>\n",
       "      <td>NYSERDA_Energy_Assessment_-_Island_Bay_Grill_a...</td>\n",
       "      <td>0.010762</td>\n",
       "      <td>False</td>\n",
       "    </tr>\n",
       "    <tr>\n",
       "      <th>37</th>\n",
       "      <td>NewMtZionBaptistChurch</td>\n",
       "      <td>0.010270</td>\n",
       "      <td>False</td>\n",
       "    </tr>\n",
       "    <tr>\n",
       "      <th>74</th>\n",
       "      <td>MountLebanonBaptistChurch</td>\n",
       "      <td>0.009111</td>\n",
       "      <td>False</td>\n",
       "    </tr>\n",
       "    <tr>\n",
       "      <th>34</th>\n",
       "      <td>WaysideBaptistChurch</td>\n",
       "      <td>0.008971</td>\n",
       "      <td>False</td>\n",
       "    </tr>\n",
       "    <tr>\n",
       "      <th>82</th>\n",
       "      <td>TheStarPeople'sLaundromat</td>\n",
       "      <td>0.008893</td>\n",
       "      <td>False</td>\n",
       "    </tr>\n",
       "    <tr>\n",
       "      <th>48</th>\n",
       "      <td>4-1_Vision_Education_Media,_LLC_-_NYSERDA_Ener...</td>\n",
       "      <td>0.008261</td>\n",
       "      <td>False</td>\n",
       "    </tr>\n",
       "    <tr>\n",
       "      <th>99</th>\n",
       "      <td>BrooklynLegalServicesCorpA</td>\n",
       "      <td>0.008230</td>\n",
       "      <td>False</td>\n",
       "    </tr>\n",
       "    <tr>\n",
       "      <th>77</th>\n",
       "      <td>NYSERDA_Energy_Assessment_-_Nelly's_Nails_and_...</td>\n",
       "      <td>0.008104</td>\n",
       "      <td>False</td>\n",
       "    </tr>\n",
       "    <tr>\n",
       "      <th>61</th>\n",
       "      <td>HarrietTubmanFannieLouHamerCollectivedbaSistas...</td>\n",
       "      <td>0.008026</td>\n",
       "      <td>False</td>\n",
       "    </tr>\n",
       "  </tbody>\n",
       "</table>\n",
       "</div>"
      ],
      "text/plain": [
       "                                         Property Name  Emissions Intensity  \\\n",
       "86                                  PaninicoCafeReport             0.048208   \n",
       "101                               LunaNYCafeCorpReport             0.044468   \n",
       "84                                          CAAABagels             0.043554   \n",
       "87                         Curran'sSuperiorMeatsReport             0.039017   \n",
       "98                         NewTestamentChristianChurch             0.034172   \n",
       "5                            MoonbluIncdbaJoyBurgerBar             0.034172   \n",
       "54                                  AnchorHouse-ParkPl             0.027910   \n",
       "80   NYSERDA_Energy_Assessment_-_1011_Tavern_Corp_-...             0.026384   \n",
       "1                                       69thLaneStudio             0.018989   \n",
       "58                                AnchorHouse-BergenSt             0.018985   \n",
       "51                      CongregationOhabZedekSynagogue             0.013983   \n",
       "76   NYSERDA_Energy_Assessment_-_DAC_Unisex_Beauty_...             0.012874   \n",
       "11                            PentecostalHouseofPrayer             0.012815   \n",
       "89                                            ThaiRock             0.011434   \n",
       "73   NYSERDA_Energy_Assessment_-_Island_Bay_Grill_a...             0.010762   \n",
       "37                              NewMtZionBaptistChurch             0.010270   \n",
       "74                           MountLebanonBaptistChurch             0.009111   \n",
       "34                                WaysideBaptistChurch             0.008971   \n",
       "82                           TheStarPeople'sLaundromat             0.008893   \n",
       "48   4-1_Vision_Education_Media,_LLC_-_NYSERDA_Ener...             0.008261   \n",
       "99                          BrooklynLegalServicesCorpA             0.008230   \n",
       "77   NYSERDA_Energy_Assessment_-_Nelly's_Nails_and_...             0.008104   \n",
       "61   HarrietTubmanFannieLouHamerCollectivedbaSistas...             0.008026   \n",
       "\n",
       "     Inefficient  \n",
       "86          True  \n",
       "101         True  \n",
       "84          True  \n",
       "87          True  \n",
       "98          True  \n",
       "5           True  \n",
       "54          True  \n",
       "80          True  \n",
       "1           True  \n",
       "58          True  \n",
       "51         False  \n",
       "76         False  \n",
       "11         False  \n",
       "89         False  \n",
       "73         False  \n",
       "37         False  \n",
       "74         False  \n",
       "34         False  \n",
       "82         False  \n",
       "48         False  \n",
       "99         False  \n",
       "77         False  \n",
       "61         False  "
      ]
     },
     "execution_count": 101,
     "metadata": {},
     "output_type": "execute_result"
    }
   ],
   "source": [
    "#List buildings that are perfoming badly regarding emisisons\n",
    "bloc_df[bloc_df['Emissions Intensity']>bench_value][['Property Name' ,'Emissions Intensity','Inefficient']].sort_values('Emissions Intensity', ascending=False)"
   ]
  },
  {
   "cell_type": "markdown",
   "metadata": {},
   "source": [
    "Why does it matter? \"74% of citywide greenhouse gas emissions come from the energy used in its buildings. And of that, more than half comes from energy used in just 2% of the largest properties.Those 2% are required to benchmark and disclose their energy use in accordance with a city law.\" https://www.nrdc.org/experts/melissa-wright/nyc-releases-1st-year-year-building-energy-performance-data-becomes-1st-us\n",
    "\n",
    "We'll look at this buildings from 2012-2016"
   ]
  },
  {
   "cell_type": "markdown",
   "metadata": {},
   "source": [
    "# 10. NYC's Greener Greater Buildings Plan"
   ]
  },
  {
   "cell_type": "markdown",
   "metadata": {},
   "source": [
    "US: Local Law 84 of 2009 requiring buildings to disclose energy and water consumption."
   ]
  },
  {
   "cell_type": "code",
   "execution_count": 53,
   "metadata": {
    "collapsed": true
   },
   "outputs": [],
   "source": [
    "#import data\n",
    "df_2012 = pd.read_excel(open('2012_nyc_cy2011_ll84_disclosure_data.xlsx','rb'), sheetname='Energy and Water Data Disclosu')\n",
    "df_2013 = pd.read_excel(open('2013_nyc_ll84_disclosure.xlsx','rb'), sheetname='2012 NYC Benchmark Data')\n",
    "df_2014 = pd.read_excel(open('150428_2014_nyc_ll84_disclosure.xlsx','rb'), sheetname='2013 NYC Benchmark Data')\n",
    "df_2015 = pd.read_excel(open('2015_nyc_cy2014__ll84_disclosure_data.xlsx','rb'), sheetname='WORKING FILE')\n",
    "df_2016 = pd.read_excel(open('nyc_benchmarking_disclosure_data_reported_in_2016.xlsx','rb'), sheetname='2015 Data Reported in 2016')"
   ]
  },
  {
   "cell_type": "code",
   "execution_count": 54,
   "metadata": {
    "collapsed": true
   },
   "outputs": [],
   "source": [
    "#remove duplicates\n",
    "df_2012 =df_2012.drop_duplicates(subset=['BBL'], keep='first')\n",
    "df_2013 =df_2013.drop_duplicates(subset=['BBL'], keep='first')\n",
    "df_2014 =df_2014.drop_duplicates(subset=['NYC Borough, Block, and Lot (BBL)'], keep='first')\n",
    "df_2015 =df_2015.drop_duplicates(subset=['NYC Borough, Block, and Lot (BBL)'], keep='first')\n",
    "df_2016 =df_2016.drop_duplicates(subset=['NYC Borough, Block and Lot (BBL)'], keep='first')"
   ]
  },
  {
   "cell_type": "code",
   "execution_count": 55,
   "metadata": {},
   "outputs": [
    {
     "data": {
      "text/html": [
       "<div>\n",
       "<style>\n",
       "    .dataframe thead tr:only-child th {\n",
       "        text-align: right;\n",
       "    }\n",
       "\n",
       "    .dataframe thead th {\n",
       "        text-align: left;\n",
       "    }\n",
       "\n",
       "    .dataframe tbody tr th {\n",
       "        vertical-align: top;\n",
       "    }\n",
       "</style>\n",
       "<table border=\"1\" class=\"dataframe\">\n",
       "  <thead>\n",
       "    <tr style=\"text-align: right;\">\n",
       "      <th></th>\n",
       "      <th>BBL</th>\n",
       "      <th>Street Number</th>\n",
       "      <th>Street Name</th>\n",
       "      <th>Borough</th>\n",
       "      <th>Zip</th>\n",
       "      <th>Site EUI 2012</th>\n",
       "      <th>Site EUI 2013</th>\n",
       "      <th>Site EUI 2014</th>\n",
       "      <th>Site EUI 2015</th>\n",
       "      <th>Site EUI 2016</th>\n",
       "      <th>sq ft.</th>\n",
       "      <th>Address</th>\n",
       "    </tr>\n",
       "  </thead>\n",
       "  <tbody>\n",
       "    <tr>\n",
       "      <th>0</th>\n",
       "      <td>1000090001</td>\n",
       "      <td>34</td>\n",
       "      <td>WHITEHALL STREET</td>\n",
       "      <td>MANHATTAN</td>\n",
       "      <td>10004</td>\n",
       "      <td>157.9</td>\n",
       "      <td>99.5</td>\n",
       "      <td>78.5</td>\n",
       "      <td>81.3</td>\n",
       "      <td>71.4</td>\n",
       "      <td>845018.0</td>\n",
       "      <td>34 WHITEHALL STREET MANHATTAN</td>\n",
       "    </tr>\n",
       "    <tr>\n",
       "      <th>1</th>\n",
       "      <td>1000090014</td>\n",
       "      <td>17</td>\n",
       "      <td>STATE STREET</td>\n",
       "      <td>MANHATTAN</td>\n",
       "      <td>10004</td>\n",
       "      <td>91.5</td>\n",
       "      <td>79.7</td>\n",
       "      <td>68.6</td>\n",
       "      <td>80.8</td>\n",
       "      <td>77.2</td>\n",
       "      <td>544015.0</td>\n",
       "      <td>17 STATE STREET MANHATTAN</td>\n",
       "    </tr>\n",
       "    <tr>\n",
       "      <th>2</th>\n",
       "      <td>1000090029</td>\n",
       "      <td>24</td>\n",
       "      <td>WHITEHALL STREET</td>\n",
       "      <td>MANHATTAN</td>\n",
       "      <td>10004</td>\n",
       "      <td>137.2</td>\n",
       "      <td>139.4</td>\n",
       "      <td>148.4</td>\n",
       "      <td>136.2</td>\n",
       "      <td>118.6</td>\n",
       "      <td>896956.0</td>\n",
       "      <td>24 WHITEHALL STREET MANHATTAN</td>\n",
       "    </tr>\n",
       "    <tr>\n",
       "      <th>3</th>\n",
       "      <td>1000100016</td>\n",
       "      <td>90</td>\n",
       "      <td>BROAD STREET</td>\n",
       "      <td>MANHATTAN</td>\n",
       "      <td>10004</td>\n",
       "      <td>53.5</td>\n",
       "      <td>39.8</td>\n",
       "      <td>NaN</td>\n",
       "      <td>25896.9</td>\n",
       "      <td>17938.1</td>\n",
       "      <td>336025.0</td>\n",
       "      <td>90 BROAD STREET MANHATTAN</td>\n",
       "    </tr>\n",
       "    <tr>\n",
       "      <th>4</th>\n",
       "      <td>1000100023</td>\n",
       "      <td>1</td>\n",
       "      <td>WHITEHALL STREET</td>\n",
       "      <td>MANHATTAN</td>\n",
       "      <td>10004</td>\n",
       "      <td>113.1</td>\n",
       "      <td>102.8</td>\n",
       "      <td>108</td>\n",
       "      <td>106.8</td>\n",
       "      <td>102.2</td>\n",
       "      <td>321994.0</td>\n",
       "      <td>1 WHITEHALL STREET MANHATTAN</td>\n",
       "    </tr>\n",
       "  </tbody>\n",
       "</table>\n",
       "</div>"
      ],
      "text/plain": [
       "          BBL Street Number       Street Name    Borough    Zip  \\\n",
       "0  1000090001            34  WHITEHALL STREET  MANHATTAN  10004   \n",
       "1  1000090014            17      STATE STREET  MANHATTAN  10004   \n",
       "2  1000090029            24  WHITEHALL STREET  MANHATTAN  10004   \n",
       "3  1000100016            90      BROAD STREET  MANHATTAN  10004   \n",
       "4  1000100023             1  WHITEHALL STREET  MANHATTAN  10004   \n",
       "\n",
       "   Site EUI 2012  Site EUI 2013 Site EUI 2014 Site EUI 2015  Site EUI 2016  \\\n",
       "0          157.9           99.5          78.5          81.3           71.4   \n",
       "1           91.5           79.7          68.6          80.8           77.2   \n",
       "2          137.2          139.4         148.4         136.2          118.6   \n",
       "3           53.5           39.8           NaN       25896.9        17938.1   \n",
       "4          113.1          102.8           108         106.8          102.2   \n",
       "\n",
       "     sq ft.                        Address  \n",
       "0  845018.0  34 WHITEHALL STREET MANHATTAN  \n",
       "1  544015.0      17 STATE STREET MANHATTAN  \n",
       "2  896956.0  24 WHITEHALL STREET MANHATTAN  \n",
       "3  336025.0      90 BROAD STREET MANHATTAN  \n",
       "4  321994.0   1 WHITEHALL STREET MANHATTAN  "
      ]
     },
     "execution_count": 55,
     "metadata": {},
     "output_type": "execute_result"
    }
   ],
   "source": [
    "#bring together\n",
    "buildings = df_2012[['BBL','Street Number', 'Street Name','Borough', 'Zip', 'Site EUI']]\n",
    "buildings.columns =['BBL','Street Number', 'Street Name','Borough', 'Zip', 'Site EUI 2012']\n",
    "buildings = pd.merge(buildings, df_2013, on='BBL')\n",
    "buildings = buildings[['BBL', 'Street Number_x', 'Street Name_x', 'Borough_x', 'Zip_x','Site EUI 2012','Site EUI\\n(kBtu/ft2)']]\n",
    "buildings.columns =['BBL','Street Number', 'Street Name','Borough', 'Zip', 'Site EUI 2012', 'Site EUI 2013']\n",
    "df_2014.rename(columns={'NYC Borough, Block, and Lot (BBL)': 'BBL'}, inplace=True)\n",
    "buildings = pd.merge(buildings, df_2014, on='BBL')\n",
    "buildings = buildings[['BBL', 'Street Number_x', 'Street Name_x', 'Borough_x', 'Zip',\n",
    "                       'Site EUI 2012','Site EUI 2013', 'Site EUI\\n(kBtu/ft2)']]\n",
    "buildings.columns =['BBL','Street Number', 'Street Name','Borough', 'Zip', 'Site EUI 2012', 'Site EUI 2013', 'Site EUI 2014']\n",
    "df_2015.rename(columns={'NYC Borough, Block, and Lot (BBL)': 'BBL'}, inplace=True)\n",
    "buildings = pd.merge(buildings, df_2015, on='BBL')\n",
    "buildings = buildings[['BBL', 'Street Number_x', 'Street Name_x', 'Borough_x', 'Zip',\n",
    "                       'Site EUI 2012','Site EUI 2013', 'Site EUI 2014', 'Site EUI\\n(kBtu/ft2)']]\n",
    "buildings.columns =['BBL','Street Number', 'Street Name','Borough', 'Zip', \n",
    "                    'Site EUI 2012', 'Site EUI 2013', 'Site EUI 2014','Site EUI 2015']\n",
    "df_2016.rename(columns={'NYC Borough, Block and Lot (BBL)': 'BBL'}, inplace=True)\n",
    "buildings = pd.merge(buildings, df_2016, on='BBL')\n",
    "buildings = buildings[['BBL', 'Street Number_x', 'Street Name_x', 'Borough_x', 'Zip',\n",
    "                       'Site EUI 2012','Site EUI 2013', 'Site EUI 2014', 'Site EUI 2015', \n",
    "                       'Site EUI (kBtu/ft²)', 'DOF Property Floor Area (ft²)']]\n",
    "buildings.columns =['BBL','Street Number', 'Street Name','Borough', 'Zip', \n",
    "                    'Site EUI 2012', 'Site EUI 2013', 'Site EUI 2014','Site EUI 2015', 'Site EUI 2016', 'sq ft.']\n",
    "buildings.head(3)\n",
    "buildings[\"Address\"] = buildings['Street Number'].astype(str) + ' ' +buildings['Street Name'] + ' ' + buildings['Borough']\n",
    "buildings.head()"
   ]
  },
  {
   "cell_type": "code",
   "execution_count": 56,
   "metadata": {},
   "outputs": [
    {
     "name": "stdout",
     "output_type": "stream",
     "text": [
      "<class 'pandas.core.frame.DataFrame'>\n",
      "Int64Index: 2761 entries, 0 to 2760\n",
      "Data columns (total 12 columns):\n",
      "BBL              2761 non-null object\n",
      "Street Number    2755 non-null object\n",
      "Street Name      2761 non-null object\n",
      "Borough          2761 non-null object\n",
      "Zip              2761 non-null int64\n",
      "Site EUI 2012    1672 non-null float64\n",
      "Site EUI 2013    1988 non-null float64\n",
      "Site EUI 2014    1889 non-null object\n",
      "Site EUI 2015    2198 non-null object\n",
      "Site EUI 2016    2332 non-null float64\n",
      "sq ft.           2756 non-null float64\n",
      "Address          2761 non-null object\n",
      "dtypes: float64(4), int64(1), object(7)\n",
      "memory usage: 280.4+ KB\n"
     ]
    }
   ],
   "source": [
    "buildings.info()"
   ]
  },
  {
   "cell_type": "code",
   "execution_count": 57,
   "metadata": {
    "collapsed": true
   },
   "outputs": [],
   "source": [
    "#convert object types to floats\n",
    "eui_2014 = []\n",
    "for i in buildings['Site EUI 2014']:\n",
    "    try:\n",
    "        eui_2014.append(np.float(i))\n",
    "    except:\n",
    "        eui_2014.append(np.nan)\n",
    "buildings['Site EUI 2014'] = eui_2014\n",
    "\n",
    "eui_2015 = []\n",
    "for i in buildings['Site EUI 2015']:\n",
    "    try:\n",
    "        eui_2015.append(np.float(i))\n",
    "    except:\n",
    "        eui_2015.append(np.nan) \n",
    "buildings['Site EUI 2015'] = eui_2015"
   ]
  },
  {
   "cell_type": "code",
   "execution_count": 58,
   "metadata": {},
   "outputs": [
    {
     "name": "stderr",
     "output_type": "stream",
     "text": [
      "C:\\Users\\USER\\Anaconda3\\lib\\site-packages\\ipykernel_launcher.py:5: RuntimeWarning: Mean of empty slice\n",
      "  \"\"\"\n"
     ]
    },
    {
     "data": {
      "text/html": [
       "<div>\n",
       "<style>\n",
       "    .dataframe thead tr:only-child th {\n",
       "        text-align: right;\n",
       "    }\n",
       "\n",
       "    .dataframe thead th {\n",
       "        text-align: left;\n",
       "    }\n",
       "\n",
       "    .dataframe tbody tr th {\n",
       "        vertical-align: top;\n",
       "    }\n",
       "</style>\n",
       "<table border=\"1\" class=\"dataframe\">\n",
       "  <thead>\n",
       "    <tr style=\"text-align: right;\">\n",
       "      <th></th>\n",
       "      <th>BBL</th>\n",
       "      <th>Street Number</th>\n",
       "      <th>Street Name</th>\n",
       "      <th>Borough</th>\n",
       "      <th>Zip</th>\n",
       "      <th>Site EUI 2012</th>\n",
       "      <th>Site EUI 2013</th>\n",
       "      <th>Site EUI 2014</th>\n",
       "      <th>Site EUI 2015</th>\n",
       "      <th>Site EUI 2016</th>\n",
       "      <th>sq ft.</th>\n",
       "      <th>Address</th>\n",
       "    </tr>\n",
       "  </thead>\n",
       "  <tbody>\n",
       "    <tr>\n",
       "      <th>0</th>\n",
       "      <td>1000090001</td>\n",
       "      <td>34</td>\n",
       "      <td>WHITEHALL STREET</td>\n",
       "      <td>MANHATTAN</td>\n",
       "      <td>10004</td>\n",
       "      <td>157.9</td>\n",
       "      <td>99.5</td>\n",
       "      <td>78.500</td>\n",
       "      <td>81.3</td>\n",
       "      <td>71.4</td>\n",
       "      <td>845018.0</td>\n",
       "      <td>34 WHITEHALL STREET MANHATTAN</td>\n",
       "    </tr>\n",
       "    <tr>\n",
       "      <th>1</th>\n",
       "      <td>1000090014</td>\n",
       "      <td>17</td>\n",
       "      <td>STATE STREET</td>\n",
       "      <td>MANHATTAN</td>\n",
       "      <td>10004</td>\n",
       "      <td>91.5</td>\n",
       "      <td>79.7</td>\n",
       "      <td>68.600</td>\n",
       "      <td>80.8</td>\n",
       "      <td>77.2</td>\n",
       "      <td>544015.0</td>\n",
       "      <td>17 STATE STREET MANHATTAN</td>\n",
       "    </tr>\n",
       "    <tr>\n",
       "      <th>2</th>\n",
       "      <td>1000090029</td>\n",
       "      <td>24</td>\n",
       "      <td>WHITEHALL STREET</td>\n",
       "      <td>MANHATTAN</td>\n",
       "      <td>10004</td>\n",
       "      <td>137.2</td>\n",
       "      <td>139.4</td>\n",
       "      <td>148.400</td>\n",
       "      <td>136.2</td>\n",
       "      <td>118.6</td>\n",
       "      <td>896956.0</td>\n",
       "      <td>24 WHITEHALL STREET MANHATTAN</td>\n",
       "    </tr>\n",
       "    <tr>\n",
       "      <th>3</th>\n",
       "      <td>1000100016</td>\n",
       "      <td>90</td>\n",
       "      <td>BROAD STREET</td>\n",
       "      <td>MANHATTAN</td>\n",
       "      <td>10004</td>\n",
       "      <td>53.5</td>\n",
       "      <td>39.8</td>\n",
       "      <td>10982.075</td>\n",
       "      <td>25896.9</td>\n",
       "      <td>17938.1</td>\n",
       "      <td>336025.0</td>\n",
       "      <td>90 BROAD STREET MANHATTAN</td>\n",
       "    </tr>\n",
       "    <tr>\n",
       "      <th>4</th>\n",
       "      <td>1000100023</td>\n",
       "      <td>1</td>\n",
       "      <td>WHITEHALL STREET</td>\n",
       "      <td>MANHATTAN</td>\n",
       "      <td>10004</td>\n",
       "      <td>113.1</td>\n",
       "      <td>102.8</td>\n",
       "      <td>108.000</td>\n",
       "      <td>106.8</td>\n",
       "      <td>102.2</td>\n",
       "      <td>321994.0</td>\n",
       "      <td>1 WHITEHALL STREET MANHATTAN</td>\n",
       "    </tr>\n",
       "  </tbody>\n",
       "</table>\n",
       "</div>"
      ],
      "text/plain": [
       "          BBL Street Number       Street Name    Borough    Zip  \\\n",
       "0  1000090001            34  WHITEHALL STREET  MANHATTAN  10004   \n",
       "1  1000090014            17      STATE STREET  MANHATTAN  10004   \n",
       "2  1000090029            24  WHITEHALL STREET  MANHATTAN  10004   \n",
       "3  1000100016            90      BROAD STREET  MANHATTAN  10004   \n",
       "4  1000100023             1  WHITEHALL STREET  MANHATTAN  10004   \n",
       "\n",
       "   Site EUI 2012  Site EUI 2013  Site EUI 2014  Site EUI 2015  Site EUI 2016  \\\n",
       "0          157.9           99.5         78.500           81.3           71.4   \n",
       "1           91.5           79.7         68.600           80.8           77.2   \n",
       "2          137.2          139.4        148.400          136.2          118.6   \n",
       "3           53.5           39.8      10982.075        25896.9        17938.1   \n",
       "4          113.1          102.8        108.000          106.8          102.2   \n",
       "\n",
       "     sq ft.                        Address  \n",
       "0  845018.0  34 WHITEHALL STREET MANHATTAN  \n",
       "1  544015.0      17 STATE STREET MANHATTAN  \n",
       "2  896956.0  24 WHITEHALL STREET MANHATTAN  \n",
       "3  336025.0      90 BROAD STREET MANHATTAN  \n",
       "4  321994.0   1 WHITEHALL STREET MANHATTAN  "
      ]
     },
     "execution_count": 58,
     "metadata": {},
     "output_type": "execute_result"
    }
   ],
   "source": [
    "#fill missiong values with means\n",
    "means =[]\n",
    "for i in buildings.values:\n",
    "    mean = [i[5], i[6], i[7], i[8], i[9]]\n",
    "    means.append(np.nanmean(mean))\n",
    "  \n",
    "columns = ['BBL', 'Street Number', 'Street Name', 'Borough', 'Zip', 'Site EUI 2012', 'Site EUI 2013', 'Site EUI 2014',\n",
    "           'Site EUI 2015', 'Site EUI 2016', 'sq ft.']\n",
    "for i in range(len(buildings)):\n",
    "    for x in range(5,10):\n",
    "        if np.isnan(buildings.iloc[i,x]):\n",
    "            buildings.set_value(i, columns[x], means[i])\n",
    "buildings.head(5)"
   ]
  },
  {
   "cell_type": "code",
   "execution_count": 59,
   "metadata": {
    "collapsed": true
   },
   "outputs": [],
   "source": [
    "#Removing Inconsistent Values\n",
    "list_2012 = list(buildings[buildings['Site EUI 2012']>1000]['BBL'])\n",
    "list_2013 = list(buildings[buildings['Site EUI 2013']>1000]['BBL'])\n",
    "list_2014 = list(buildings[buildings['Site EUI 2014']>1000]['BBL'])\n",
    "list_2015 = list(buildings[buildings['Site EUI 2015']>1000]['BBL'])\n",
    "list_2016 = list(buildings[buildings['Site EUI 2016']>1000]['BBL'])\n",
    "\n",
    "agg = list_2012 + list_2013 + list_2014 + list_2015 + list_2016\n",
    "removal =[]\n",
    "for i in agg:\n",
    "    if i in removal:\n",
    "        pass\n",
    "    else: \n",
    "        removal.append(i)"
   ]
  },
  {
   "cell_type": "code",
   "execution_count": 60,
   "metadata": {
    "collapsed": true
   },
   "outputs": [],
   "source": [
    "#Analyze outliers to choose inconsistent ones\n",
    "buildings[buildings['BBL'].isin(removal)].iloc[60:,:]\n",
    " \n",
    "removal = [3, 39, 46, 62, 128, 129, 142, 174, 305, 307, 311, 508, 509, 525, 543, 606, 672, 676, 709, 773, 796, 837, 845, 850, 881, 888,\n",
    "916, 919, 931, 969, 1021, 1053, 1071, 1085, 1115, 1116, 1161, 1178, 1179, 1206, 1274, 1284, 1334, 1340, 1373, 1382, 1452, 1888, 1900, 2339,\n",
    "2432, 2535, 2608, 2656, 2681]\n",
    "\n",
    "buildings = buildings.drop(removal)"
   ]
  },
  {
   "cell_type": "code",
   "execution_count": 61,
   "metadata": {
    "collapsed": true
   },
   "outputs": [],
   "source": [
    "#calculate Energy Use Intensity\n",
    "x = [2012, 2013, 2014, 2015, 2016]\n",
    "y = [buildings['Site EUI 2012'].mean(), buildings['Site EUI 2013'].mean(), buildings['Site EUI 2014'].mean(),\n",
    "    buildings['Site EUI 2015'].mean(), buildings['Site EUI 2016'].mean()]"
   ]
  },
  {
   "cell_type": "code",
   "execution_count": 62,
   "metadata": {},
   "outputs": [
    {
     "data": {
      "text/plain": [
       "<matplotlib.text.Text at 0x1c63d4977f0>"
      ]
     },
     "execution_count": 62,
     "metadata": {},
     "output_type": "execute_result"
    },
    {
     "data": {
      "image/png": "[encoded data removed]",
      "text/plain": [
       "<matplotlib.figure.Figure at 0x1c63e4a3cc0>"
      ]
     },
     "metadata": {},
     "output_type": "display_data"
    }
   ],
   "source": [
    "#Plot EUIs\n",
    "plt.plot(x,y, color='#1e90ff')\n",
    "plt.ylim(200,370)\n",
    "plt.title('Energy Use Intensity')\n",
    "plt.ylabel('kBtu/ft2')\n",
    "plt.xlabel('Year')"
   ]
  },
  {
   "cell_type": "code",
   "execution_count": null,
   "metadata": {
    "collapsed": true
   },
   "outputs": [],
   "source": []
  },
  {
   "cell_type": "code",
   "execution_count": 63,
   "metadata": {},
   "outputs": [
    {
     "data": {
      "text/html": [
       "<div>\n",
       "<style>\n",
       "    .dataframe thead tr:only-child th {\n",
       "        text-align: right;\n",
       "    }\n",
       "\n",
       "    .dataframe thead th {\n",
       "        text-align: left;\n",
       "    }\n",
       "\n",
       "    .dataframe tbody tr th {\n",
       "        vertical-align: top;\n",
       "    }\n",
       "</style>\n",
       "<table border=\"1\" class=\"dataframe\">\n",
       "  <thead>\n",
       "    <tr style=\"text-align: right;\">\n",
       "      <th></th>\n",
       "      <th>BBL</th>\n",
       "      <th>Street Number</th>\n",
       "      <th>Street Name</th>\n",
       "      <th>Borough</th>\n",
       "      <th>Zip</th>\n",
       "      <th>Site EUI 2012</th>\n",
       "      <th>Site EUI 2013</th>\n",
       "      <th>Site EUI 2014</th>\n",
       "      <th>Site EUI 2015</th>\n",
       "      <th>Site EUI 2016</th>\n",
       "      <th>sq ft.</th>\n",
       "      <th>Address</th>\n",
       "      <th>Lon</th>\n",
       "      <th>Lat</th>\n",
       "    </tr>\n",
       "  </thead>\n",
       "  <tbody>\n",
       "    <tr>\n",
       "      <th>0</th>\n",
       "      <td>1000090001</td>\n",
       "      <td>34</td>\n",
       "      <td>WHITEHALL STREET</td>\n",
       "      <td>MANHATTAN</td>\n",
       "      <td>10004</td>\n",
       "      <td>157.9</td>\n",
       "      <td>99.5</td>\n",
       "      <td>78.5</td>\n",
       "      <td>81.3</td>\n",
       "      <td>71.4</td>\n",
       "      <td>845018.0</td>\n",
       "      <td>34 WHITEHALL STREET MANHATTAN</td>\n",
       "      <td>-73.989353</td>\n",
       "      <td>40.729733</td>\n",
       "    </tr>\n",
       "    <tr>\n",
       "      <th>1</th>\n",
       "      <td>1000090014</td>\n",
       "      <td>17</td>\n",
       "      <td>STATE STREET</td>\n",
       "      <td>MANHATTAN</td>\n",
       "      <td>10004</td>\n",
       "      <td>91.5</td>\n",
       "      <td>79.7</td>\n",
       "      <td>68.6</td>\n",
       "      <td>80.8</td>\n",
       "      <td>77.2</td>\n",
       "      <td>544015.0</td>\n",
       "      <td>17 STATE STREET MANHATTAN</td>\n",
       "      <td>-74.012345</td>\n",
       "      <td>40.714512</td>\n",
       "    </tr>\n",
       "    <tr>\n",
       "      <th>2</th>\n",
       "      <td>1000090029</td>\n",
       "      <td>24</td>\n",
       "      <td>WHITEHALL STREET</td>\n",
       "      <td>MANHATTAN</td>\n",
       "      <td>10004</td>\n",
       "      <td>137.2</td>\n",
       "      <td>139.4</td>\n",
       "      <td>148.4</td>\n",
       "      <td>136.2</td>\n",
       "      <td>118.6</td>\n",
       "      <td>896956.0</td>\n",
       "      <td>24 WHITEHALL STREET MANHATTAN</td>\n",
       "      <td>-73.992312</td>\n",
       "      <td>40.722156</td>\n",
       "    </tr>\n",
       "  </tbody>\n",
       "</table>\n",
       "</div>"
      ],
      "text/plain": [
       "          BBL Street Number       Street Name    Borough    Zip  \\\n",
       "0  1000090001            34  WHITEHALL STREET  MANHATTAN  10004   \n",
       "1  1000090014            17      STATE STREET  MANHATTAN  10004   \n",
       "2  1000090029            24  WHITEHALL STREET  MANHATTAN  10004   \n",
       "\n",
       "   Site EUI 2012  Site EUI 2013  Site EUI 2014  Site EUI 2015  Site EUI 2016  \\\n",
       "0          157.9           99.5           78.5           81.3           71.4   \n",
       "1           91.5           79.7           68.6           80.8           77.2   \n",
       "2          137.2          139.4          148.4          136.2          118.6   \n",
       "\n",
       "     sq ft.                        Address        Lon        Lat  \n",
       "0  845018.0  34 WHITEHALL STREET MANHATTAN -73.989353  40.729733  \n",
       "1  544015.0      17 STATE STREET MANHATTAN -74.012345  40.714512  \n",
       "2  896956.0  24 WHITEHALL STREET MANHATTAN -73.992312  40.722156  "
      ]
     },
     "execution_count": 63,
     "metadata": {},
     "output_type": "execute_result"
    }
   ],
   "source": [
    "# Add coordinates from http://www.freegeocoding.com\n",
    "coordinates = pd.read_excel(open('building coordinates.xlsx','rb'), sheetname='Sheet1')\n",
    "buildings = pd.merge(buildings, coordinates, on='Address')\n",
    "buildings.head(3)"
   ]
  },
  {
   "cell_type": "code",
   "execution_count": 291,
   "metadata": {
    "collapsed": true
   },
   "outputs": [],
   "source": [
    "df_1 = buildings\n",
    "# Create a Pandas Excel writer using XlsxWriter as the engine.\n",
    "writer = pd.ExcelWriter('pandas_simple.xlsx', engine='xlsxwriter')\n",
    "\n",
    "# Convert the dataframe to an XlsxWriter Excel object.\n",
    "df_1.to_excel(writer, sheet_name='Sheet2')\n",
    "\n",
    "# Close the Pandas Excel writer and output the Excel file.\n",
    "writer.save()   "
   ]
  },
  {
   "cell_type": "code",
   "execution_count": 64,
   "metadata": {
    "collapsed": true
   },
   "outputs": [],
   "source": [
    "#Assign locations to clusters\n",
    "\n",
    "lon_a = -73\n",
    "lon_b = -73.9103205\n",
    "lon_c = -73.9624929\n",
    "lon_d = -73.98222\n",
    "lon_e = -73.9920453\n",
    "lon_f = -74.243756\n",
    "\n",
    "\n",
    "lat_a = 40\n",
    "lat_b = 40.70452\n",
    "lat_c = 40.7416969\n",
    "lat_d = 40.754149\n",
    "lat_e = 40.7626903\n",
    "lat_f = 40.9124186"
   ]
  },
  {
   "cell_type": "code",
   "execution_count": 65,
   "metadata": {},
   "outputs": [
    {
     "name": "stderr",
     "output_type": "stream",
     "text": [
      "C:\\Users\\USER\\Anaconda3\\lib\\site-packages\\ipykernel_launcher.py:57: SettingWithCopyWarning: \n",
      "A value is trying to be set on a copy of a slice from a DataFrame.\n",
      "Try using .loc[row_indexer,col_indexer] = value instead\n",
      "\n",
      "See the caveats in the documentation: http://pandas.pydata.org/pandas-docs/stable/indexing.html#indexing-view-versus-copy\n"
     ]
    },
    {
     "data": {
      "text/html": [
       "<div>\n",
       "<style>\n",
       "    .dataframe thead tr:only-child th {\n",
       "        text-align: right;\n",
       "    }\n",
       "\n",
       "    .dataframe thead th {\n",
       "        text-align: left;\n",
       "    }\n",
       "\n",
       "    .dataframe tbody tr th {\n",
       "        vertical-align: top;\n",
       "    }\n",
       "</style>\n",
       "<table border=\"1\" class=\"dataframe\">\n",
       "  <thead>\n",
       "    <tr style=\"text-align: right;\">\n",
       "      <th></th>\n",
       "      <th>BBL</th>\n",
       "      <th>Address</th>\n",
       "      <th>Lon</th>\n",
       "      <th>Lat</th>\n",
       "      <th>Site EUI 2012</th>\n",
       "      <th>Site EUI 2013</th>\n",
       "      <th>Site EUI 2014</th>\n",
       "      <th>Site EUI 2015</th>\n",
       "      <th>Site EUI 2016</th>\n",
       "      <th>clusters</th>\n",
       "    </tr>\n",
       "  </thead>\n",
       "  <tbody>\n",
       "    <tr>\n",
       "      <th>0</th>\n",
       "      <td>1000090001</td>\n",
       "      <td>34 WHITEHALL STREET MANHATTAN</td>\n",
       "      <td>-73.989353</td>\n",
       "      <td>40.729733</td>\n",
       "      <td>157.9</td>\n",
       "      <td>99.5</td>\n",
       "      <td>78.5</td>\n",
       "      <td>81.3</td>\n",
       "      <td>71.4</td>\n",
       "      <td>11</td>\n",
       "    </tr>\n",
       "  </tbody>\n",
       "</table>\n",
       "</div>"
      ],
      "text/plain": [
       "          BBL                        Address        Lon        Lat  \\\n",
       "0  1000090001  34 WHITEHALL STREET MANHATTAN -73.989353  40.729733   \n",
       "\n",
       "   Site EUI 2012  Site EUI 2013  Site EUI 2014  Site EUI 2015  Site EUI 2016  \\\n",
       "0          157.9           99.5           78.5           81.3           71.4   \n",
       "\n",
       "   clusters  \n",
       "0        11  "
      ]
     },
     "execution_count": 65,
     "metadata": {},
     "output_type": "execute_result"
    }
   ],
   "source": [
    "df = buildings[['BBL', 'Address', 'Lon', 'Lat', 'Site EUI 2012', 'Site EUI 2013',\n",
    "                'Site EUI 2014', 'Site EUI 2015', 'Site EUI 2016']]\n",
    "clusters = []\n",
    "wrong = []\n",
    "for i in df.values:\n",
    "    if lon_b<=i[2]<=lon_a and lat_a<=i[3]<lat_b:\n",
    "        clusters.append(1)    \n",
    "    elif lon_c<=i[2]<lon_b and lat_a<=i[3]<lat_b:\n",
    "        clusters.append(2)   \n",
    "    elif lon_c<=i[2]<lon_b and lat_b<=i[3]<lat_c:\n",
    "        clusters.append(3)\n",
    "    elif lon_b<=i[2]<=lon_a and lat_b<=i[3]<lat_c:\n",
    "        clusters.append(4)    \n",
    "    elif lon_d<=i[2]<lon_c and lat_a<=i[3]<lat_b:\n",
    "        clusters.append(5)  \n",
    "    elif lon_d<=i[2]<lon_c and lat_b<=i[3]<lat_c:\n",
    "        clusters.append(6)    \n",
    "    elif lon_d<=i[2]<lon_c and lat_c<=i[3]<lat_d:\n",
    "        clusters.append(7)    \n",
    "    elif lon_c<=i[2]<lon_b and lat_c<=i[3]<lat_d:\n",
    "        clusters.append(8)    \n",
    "    elif lon_b<=i[2]<=lon_a and lat_c<=i[3]<lat_d:\n",
    "        clusters.append(9)    \n",
    "    elif lon_e<=i[2]<lon_d and lat_a<=i[3]<lat_b:\n",
    "        clusters.append(10)    \n",
    "    elif lon_e<=i[2]<lon_d and lat_b<=i[3]<lat_c:\n",
    "        clusters.append(11)   \n",
    "    elif lon_e<=i[2]<lon_d and lat_c<=i[3]<lat_d:\n",
    "        clusters.append(12)  \n",
    "    elif lon_e<=i[2]<lon_d and lat_d<=i[3]<lat_e:\n",
    "        clusters.append(13)   \n",
    "    elif lon_d<=i[2]<lon_c and lat_d<=i[3]<lat_e:\n",
    "        clusters.append(14) \n",
    "    elif lon_c<=i[2]<lon_b and lat_d<=i[3]<lat_e:\n",
    "        clusters.append(15) \n",
    "    elif lon_b<=i[2]<=lon_a and lat_d<=i[3]<lat_e:\n",
    "        clusters.append(16) \n",
    "    elif lon_f<=i[2]<lon_e and lat_a<=i[3]<=lat_b:\n",
    "        clusters.append(17)   \n",
    "    elif lon_f<=i[2]<lon_e and lat_b<=i[3]<lat_c:\n",
    "        clusters.append(18)  \n",
    "    elif lon_f<=i[2]<lon_e and lat_c<=i[3]<lat_d:\n",
    "        clusters.append(19)\n",
    "    elif lon_f<=i[2]<lon_e and lat_d<=i[3]<lat_e:\n",
    "        clusters.append(20)  \n",
    "    elif lon_f<=i[2]<lon_e and lat_e<=i[3]<=lat_f:\n",
    "        clusters.append(21)\n",
    "    elif lon_e<=i[2]<lon_d and lat_e<=i[3]<=lat_f:\n",
    "        clusters.append(22)\n",
    "    elif lon_d<=i[2]<lon_c and lat_e<=i[3]<=lat_f:\n",
    "        clusters.append(23)\n",
    "    elif lon_c<=i[2]<lon_b and lat_e<=i[3]<=lat_f:\n",
    "        clusters.append(24)\n",
    "    elif lon_b<=i[2]<=lon_a and lat_e<=i[3]<=lat_f:\n",
    "        clusters.append(25) \n",
    "    else: wrong.append(i)\n",
    "df['clusters'] = clusters\n",
    "df.head(1)"
   ]
  },
  {
   "cell_type": "code",
   "execution_count": 68,
   "metadata": {},
   "outputs": [
    {
     "name": "stderr",
     "output_type": "stream",
     "text": [
      "C:\\Users\\USER\\Anaconda3\\lib\\site-packages\\bokeh\\core\\json_encoder.py:73: FutureWarning: pandas.tslib is deprecated and will be removed in a future version.\n",
      "You can access Timestamp as pandas.Timestamp\n",
      "  if pd and isinstance(obj, pd.tslib.Timestamp):\n"
     ]
    }
   ],
   "source": [
    "#Map Buildings EUI 2012\n",
    "from bokeh.io import show\n",
    "from bokeh.models import (\n",
    "    ColumnDataSource,\n",
    "    HoverTool,\n",
    "    LogColorMapper\n",
    ")\n",
    "from bokeh.palettes import Viridis6 as palette\n",
    "from bokeh.plotting import figure\n",
    "\n",
    "df1 =df.groupby('clusters').sum()\n",
    "values = list(df1['Site EUI 2012'])\n",
    "clusts = list(df1.index)\n",
    "color_mapper = LogColorMapper(palette=palette)\n",
    "\n",
    "lons =[]\n",
    "for x in clusts:\n",
    "    l =[]\n",
    "    for i in df.values:\n",
    "        if i[9]==x:\n",
    "            l.append(i[2])\n",
    "    lons.append(l)\n",
    "lats =[]\n",
    "for x in clusts:\n",
    "    l =[]\n",
    "    for i in df.values:\n",
    "        if i[9]==x:\n",
    "            l.append(i[3])\n",
    "    lats.append(l)\n",
    "\n",
    "source = ColumnDataSource(data=dict(\n",
    "    x=lons,\n",
    "    y=lats,\n",
    "    name=clusts,\n",
    "    rate=values,\n",
    "))\n",
    "\n",
    "TOOLS = \"pan,wheel_zoom,reset,hover,save\"\n",
    "\n",
    "p = figure(\n",
    "    title=\"New York EUI 2012\", tools=TOOLS,\n",
    "    x_axis_location=None, y_axis_location=None\n",
    ")\n",
    "p.grid.grid_line_color = None\n",
    "\n",
    "p.patches('x', 'y', source=source,\n",
    "          fill_color={'field': 'rate', 'transform': color_mapper},\n",
    "          fill_alpha=0.7, line_color=\"white\", line_width=0.5)\n",
    "\n",
    "hover = p.select_one(HoverTool)\n",
    "hover.point_policy = \"follow_mouse\"\n",
    "hover.tooltips = [\n",
    "    (\"Cluster\", \"@name\"),\n",
    "    (\"EUI)\", \"@rate\"),\n",
    "    (\"(Long, Lat)\", \"($x, $y)\"),\n",
    "]\n",
    "\n",
    "show(p)"
   ]
  },
  {
   "cell_type": "code",
   "execution_count": 73,
   "metadata": {},
   "outputs": [],
   "source": [
    "#Map Buildings EUI 2013\n",
    "from bokeh.io import show\n",
    "from bokeh.models import (\n",
    "    ColumnDataSource,\n",
    "    HoverTool,\n",
    "    LogColorMapper\n",
    ")\n",
    "from bokeh.palettes import Viridis6 as palette\n",
    "from bokeh.plotting import figure\n",
    "\n",
    "df1 =df.groupby('clusters').sum()\n",
    "values = list(df1['Site EUI 2013'])\n",
    "clusts = list(df1.index)\n",
    "color_mapper = LogColorMapper(palette=palette)\n",
    "\n",
    "lons =[]\n",
    "for x in clusts:\n",
    "    l =[]\n",
    "    for i in df.values:\n",
    "        if i[9]==x:\n",
    "            l.append(i[2])\n",
    "    lons.append(l)\n",
    "lats =[]\n",
    "for x in clusts:\n",
    "    l =[]\n",
    "    for i in df.values:\n",
    "        if i[9]==x:\n",
    "            l.append(i[3])\n",
    "    lats.append(l)\n",
    "\n",
    "source = ColumnDataSource(data=dict(\n",
    "    x=lons,\n",
    "    y=lats,\n",
    "    name=clusts,\n",
    "    rate=values,\n",
    "))\n",
    "\n",
    "TOOLS = \"pan,wheel_zoom,reset,hover,save\"\n",
    "\n",
    "p = figure(\n",
    "    title=\"New York EUI 2013\", tools=TOOLS,\n",
    "    x_axis_location=None, y_axis_location=None\n",
    ")\n",
    "p.grid.grid_line_color = None\n",
    "\n",
    "p.patches('x', 'y', source=source,\n",
    "          fill_color={'field': 'rate', 'transform': color_mapper},\n",
    "          fill_alpha=0.7, line_color=\"white\", line_width=0.5)\n",
    "\n",
    "hover = p.select_one(HoverTool)\n",
    "hover.point_policy = \"follow_mouse\"\n",
    "hover.tooltips = [\n",
    "    (\"Cluster\", \"@name\"),\n",
    "    (\"EUI)\", \"@rate\"),\n",
    "    (\"(Long, Lat)\", \"($x, $y)\"),\n",
    "]\n",
    "\n",
    "show(p)"
   ]
  },
  {
   "cell_type": "code",
   "execution_count": 75,
   "metadata": {
    "collapsed": true
   },
   "outputs": [],
   "source": [
    "#Map Buildings EUI 2014\n",
    "from bokeh.io import show\n",
    "from bokeh.models import (\n",
    "    ColumnDataSource,\n",
    "    HoverTool,\n",
    "    LogColorMapper\n",
    ")\n",
    "from bokeh.palettes import Viridis6 as palette\n",
    "from bokeh.plotting import figure\n",
    "\n",
    "df1 =df.groupby('clusters').sum()\n",
    "values = list(df1['Site EUI 2014'])\n",
    "clusts = list(df1.index)\n",
    "color_mapper = LogColorMapper(palette=palette)\n",
    "\n",
    "lons =[]\n",
    "for x in clusts:\n",
    "    l =[]\n",
    "    for i in df.values:\n",
    "        if i[9]==x:\n",
    "            l.append(i[2])\n",
    "    lons.append(l)\n",
    "lats =[]\n",
    "for x in clusts:\n",
    "    l =[]\n",
    "    for i in df.values:\n",
    "        if i[9]==x:\n",
    "            l.append(i[3])\n",
    "    lats.append(l)\n",
    "\n",
    "source = ColumnDataSource(data=dict(\n",
    "    x=lons,\n",
    "    y=lats,\n",
    "    name=clusts,\n",
    "    rate=values,\n",
    "))\n",
    "\n",
    "TOOLS = \"pan,wheel_zoom,reset,hover,save\"\n",
    "\n",
    "p = figure(\n",
    "    title=\"New York EUI 2014\", tools=TOOLS,\n",
    "    x_axis_location=None, y_axis_location=None\n",
    ")\n",
    "p.grid.grid_line_color = None\n",
    "\n",
    "p.patches('x', 'y', source=source,\n",
    "          fill_color={'field': 'rate', 'transform': color_mapper},\n",
    "          fill_alpha=0.7, line_color=\"white\", line_width=0.5)\n",
    "\n",
    "hover = p.select_one(HoverTool)\n",
    "hover.point_policy = \"follow_mouse\"\n",
    "hover.tooltips = [\n",
    "    (\"Cluster\", \"@name\"),\n",
    "    (\"EUI)\", \"@rate\"),\n",
    "    (\"(Long, Lat)\", \"($x, $y)\"),\n",
    "]\n",
    "\n",
    "show(p)"
   ]
  },
  {
   "cell_type": "code",
   "execution_count": 77,
   "metadata": {
    "collapsed": true
   },
   "outputs": [],
   "source": [
    "#Map Buildings EUI 2015\n",
    "from bokeh.io import show\n",
    "from bokeh.models import (\n",
    "    ColumnDataSource,\n",
    "    HoverTool,\n",
    "    LogColorMapper\n",
    ")\n",
    "from bokeh.palettes import Viridis6 as palette\n",
    "from bokeh.plotting import figure\n",
    "\n",
    "df1 =df.groupby('clusters').sum()\n",
    "values = list(df1['Site EUI 2015'])\n",
    "clusts = list(df1.index)\n",
    "color_mapper = LogColorMapper(palette=palette)\n",
    "\n",
    "lons =[]\n",
    "for x in clusts:\n",
    "    l =[]\n",
    "    for i in df.values:\n",
    "        if i[9]==x:\n",
    "            l.append(i[2])\n",
    "    lons.append(l)\n",
    "lats =[]\n",
    "for x in clusts:\n",
    "    l =[]\n",
    "    for i in df.values:\n",
    "        if i[9]==x:\n",
    "            l.append(i[3])\n",
    "    lats.append(l)\n",
    "\n",
    "source = ColumnDataSource(data=dict(\n",
    "    x=lons,\n",
    "    y=lats,\n",
    "    name=clusts,\n",
    "    rate=values,\n",
    "))\n",
    "\n",
    "TOOLS = \"pan,wheel_zoom,reset,hover,save\"\n",
    "\n",
    "p = figure(\n",
    "    title=\"New York EUI 2015\", tools=TOOLS,\n",
    "    x_axis_location=None, y_axis_location=None\n",
    ")\n",
    "p.grid.grid_line_color = None\n",
    "\n",
    "p.patches('x', 'y', source=source,\n",
    "          fill_color={'field': 'rate', 'transform': color_mapper},\n",
    "          fill_alpha=0.7, line_color=\"white\", line_width=0.5)\n",
    "\n",
    "hover = p.select_one(HoverTool)\n",
    "hover.point_policy = \"follow_mouse\"\n",
    "hover.tooltips = [\n",
    "    (\"Cluster\", \"@name\"),\n",
    "    (\"EUI)\", \"@rate\"),\n",
    "    (\"(Long, Lat)\", \"($x, $y)\"),\n",
    "]\n",
    "\n",
    "show(p)"
   ]
  },
  {
   "cell_type": "code",
   "execution_count": 78,
   "metadata": {
    "collapsed": true
   },
   "outputs": [],
   "source": [
    "#Map Buildings EUI 2016\n",
    "from bokeh.io import show\n",
    "from bokeh.models import (\n",
    "    ColumnDataSource,\n",
    "    HoverTool,\n",
    "    LogColorMapper\n",
    ")\n",
    "from bokeh.palettes import Viridis6 as palette\n",
    "from bokeh.plotting import figure\n",
    "\n",
    "df1 =df.groupby('clusters').sum()\n",
    "values = list(df1['Site EUI 2016'])\n",
    "clusts = list(df1.index)\n",
    "color_mapper = LogColorMapper(palette=palette)\n",
    "\n",
    "lons =[]\n",
    "for x in clusts:\n",
    "    l =[]\n",
    "    for i in df.values:\n",
    "        if i[9]==x:\n",
    "            l.append(i[2])\n",
    "    lons.append(l)\n",
    "lats =[]\n",
    "for x in clusts:\n",
    "    l =[]\n",
    "    for i in df.values:\n",
    "        if i[9]==x:\n",
    "            l.append(i[3])\n",
    "    lats.append(l)\n",
    "\n",
    "source = ColumnDataSource(data=dict(\n",
    "    x=lons,\n",
    "    y=lats,\n",
    "    name=clusts,\n",
    "    rate=values,\n",
    "))\n",
    "\n",
    "TOOLS = \"pan,wheel_zoom,reset,hover,save\"\n",
    "\n",
    "p = figure(\n",
    "    title=\"New York EUI 2016\", tools=TOOLS,\n",
    "    x_axis_location=None, y_axis_location=None\n",
    ")\n",
    "p.grid.grid_line_color = None\n",
    "\n",
    "p.patches('x', 'y', source=source,\n",
    "          fill_color={'field': 'rate', 'transform': color_mapper},\n",
    "          fill_alpha=0.7, line_color=\"white\", line_width=0.5)\n",
    "\n",
    "hover = p.select_one(HoverTool)\n",
    "hover.point_policy = \"follow_mouse\"\n",
    "hover.tooltips = [\n",
    "    (\"Cluster\", \"@name\"),\n",
    "    (\"EUI)\", \"@rate\"),\n",
    "    (\"(Long, Lat)\", \"($x, $y)\"),\n",
    "]\n",
    "\n",
    "show(p)"
   ]
  }
 ],
 "metadata": {
  "kernelspec": {
   "display_name": "Python 3",
   "language": "python",
   "name": "python3"
  },
  "language_info": {
   "codemirror_mode": {
    "name": "ipython",
    "version": 3
   },
   "file_extension": ".py",
   "mimetype": "text/x-python",
   "name": "python",
   "nbconvert_exporter": "python",
   "pygments_lexer": "ipython3",
   "version": "3.6.1"
  }
 },
 "nbformat": 4,
 "nbformat_minor": 2
}
